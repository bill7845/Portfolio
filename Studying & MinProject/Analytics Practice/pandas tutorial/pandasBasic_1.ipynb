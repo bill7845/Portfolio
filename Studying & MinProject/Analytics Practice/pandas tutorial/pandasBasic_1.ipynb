{
 "cells": [
  {
   "cell_type": "markdown",
   "metadata": {},
   "source": [
    "### 1. pandas로 데이터 가져오기"
   ]
  },
  {
   "cell_type": "code",
   "execution_count": 1,
   "metadata": {},
   "outputs": [],
   "source": [
    "import pandas as pd   # pandas 패키지 불러오기\n",
    "import numpy as np    # numpy 패키지 불러오기"
   ]
  },
  {
   "cell_type": "markdown",
   "metadata": {},
   "source": [
    "<br>\n",
    "\n",
    "> pandas로 csv파일 불러오기 <br>"
   ]
  },
  {
   "cell_type": "code",
   "execution_count": 2,
   "metadata": {},
   "outputs": [],
   "source": [
    "df = pd.read_csv('bank_customer.csv')"
   ]
  },
  {
   "cell_type": "code",
   "execution_count": null,
   "metadata": {},
   "outputs": [],
   "source": [
    "df #  실행시 전체 dataSet 출력"
   ]
  },
  {
   "cell_type": "markdown",
   "metadata": {},
   "source": [
    "\n",
    "> 불러온 csv파일 확인 <br>"
   ]
  },
  {
   "cell_type": "code",
   "execution_count": 15,
   "metadata": {
    "scrolled": true
   },
   "outputs": [
    {
     "name": "stdout",
     "output_type": "stream",
     "text": [
      "<class 'pandas.core.frame.DataFrame'>\n",
      "RangeIndex: 13563 entries, 0 to 13562\n",
      "Data columns (total 9 columns):\n",
      "cid          13563 non-null object\n",
      "age          13563 non-null int64\n",
      "job          13476 non-null object\n",
      "marital      13563 non-null object\n",
      "education    12995 non-null float64\n",
      "default      13563 non-null object\n",
      "balance      13563 non-null int64\n",
      "housing      13563 non-null object\n",
      "loan         13563 non-null object\n",
      "dtypes: float64(1), int64(2), object(6)\n",
      "memory usage: 953.7+ KB\n"
     ]
    }
   ],
   "source": [
    "df.info()\n",
    "# df.index()  # indext에 대한 세부정보 (! 기본RangeIndex는 안됨)  \n",
    "# df.columns  # columns 세부정보\n",
    "# df.values "
   ]
  },
  {
   "cell_type": "markdown",
   "metadata": {},
   "source": [
    "\n",
    "> 9개의 column(index 제외) , column별 row, null값 여부, dataType 확인 <br>"
   ]
  },
  {
   "cell_type": "code",
   "execution_count": 9,
   "metadata": {
    "scrolled": true
   },
   "outputs": [
    {
     "data": {
      "text/html": [
       "<div>\n",
       "<style scoped>\n",
       "    .dataframe tbody tr th:only-of-type {\n",
       "        vertical-align: middle;\n",
       "    }\n",
       "\n",
       "    .dataframe tbody tr th {\n",
       "        vertical-align: top;\n",
       "    }\n",
       "\n",
       "    .dataframe thead th {\n",
       "        text-align: right;\n",
       "    }\n",
       "</style>\n",
       "<table border=\"1\" class=\"dataframe\">\n",
       "  <thead>\n",
       "    <tr style=\"text-align: right;\">\n",
       "      <th></th>\n",
       "      <th>cid</th>\n",
       "      <th>age</th>\n",
       "      <th>job</th>\n",
       "      <th>marital</th>\n",
       "      <th>education</th>\n",
       "      <th>default</th>\n",
       "      <th>balance</th>\n",
       "      <th>housing</th>\n",
       "      <th>loan</th>\n",
       "    </tr>\n",
       "  </thead>\n",
       "  <tbody>\n",
       "    <tr>\n",
       "      <th>0</th>\n",
       "      <td>C00004</td>\n",
       "      <td>47</td>\n",
       "      <td>blue-collar</td>\n",
       "      <td>married</td>\n",
       "      <td>NaN</td>\n",
       "      <td>no</td>\n",
       "      <td>1506</td>\n",
       "      <td>yes</td>\n",
       "      <td>no</td>\n",
       "    </tr>\n",
       "    <tr>\n",
       "      <th>1</th>\n",
       "      <td>C00005</td>\n",
       "      <td>33</td>\n",
       "      <td>NaN</td>\n",
       "      <td>single</td>\n",
       "      <td>NaN</td>\n",
       "      <td>no</td>\n",
       "      <td>1</td>\n",
       "      <td>no</td>\n",
       "      <td>no</td>\n",
       "    </tr>\n",
       "    <tr>\n",
       "      <th>2</th>\n",
       "      <td>C00009</td>\n",
       "      <td>58</td>\n",
       "      <td>retired</td>\n",
       "      <td>married</td>\n",
       "      <td>1.0</td>\n",
       "      <td>no</td>\n",
       "      <td>121</td>\n",
       "      <td>yes</td>\n",
       "      <td>no</td>\n",
       "    </tr>\n",
       "    <tr>\n",
       "      <th>3</th>\n",
       "      <td>C00021</td>\n",
       "      <td>28</td>\n",
       "      <td>blue-collar</td>\n",
       "      <td>married</td>\n",
       "      <td>2.0</td>\n",
       "      <td>no</td>\n",
       "      <td>723</td>\n",
       "      <td>yes</td>\n",
       "      <td>yes</td>\n",
       "    </tr>\n",
       "    <tr>\n",
       "      <th>4</th>\n",
       "      <td>C00025</td>\n",
       "      <td>40</td>\n",
       "      <td>retired</td>\n",
       "      <td>married</td>\n",
       "      <td>1.0</td>\n",
       "      <td>no</td>\n",
       "      <td>0</td>\n",
       "      <td>yes</td>\n",
       "      <td>yes</td>\n",
       "    </tr>\n",
       "    <tr>\n",
       "      <th>5</th>\n",
       "      <td>C00026</td>\n",
       "      <td>44</td>\n",
       "      <td>admin.</td>\n",
       "      <td>married</td>\n",
       "      <td>2.0</td>\n",
       "      <td>no</td>\n",
       "      <td>-372</td>\n",
       "      <td>yes</td>\n",
       "      <td>no</td>\n",
       "    </tr>\n",
       "    <tr>\n",
       "      <th>6</th>\n",
       "      <td>C00027</td>\n",
       "      <td>39</td>\n",
       "      <td>management</td>\n",
       "      <td>single</td>\n",
       "      <td>3.0</td>\n",
       "      <td>no</td>\n",
       "      <td>255</td>\n",
       "      <td>yes</td>\n",
       "      <td>no</td>\n",
       "    </tr>\n",
       "    <tr>\n",
       "      <th>7</th>\n",
       "      <td>C00029</td>\n",
       "      <td>46</td>\n",
       "      <td>management</td>\n",
       "      <td>single</td>\n",
       "      <td>2.0</td>\n",
       "      <td>no</td>\n",
       "      <td>-246</td>\n",
       "      <td>yes</td>\n",
       "      <td>no</td>\n",
       "    </tr>\n",
       "    <tr>\n",
       "      <th>8</th>\n",
       "      <td>C00031</td>\n",
       "      <td>57</td>\n",
       "      <td>technician</td>\n",
       "      <td>married</td>\n",
       "      <td>2.0</td>\n",
       "      <td>no</td>\n",
       "      <td>839</td>\n",
       "      <td>no</td>\n",
       "      <td>yes</td>\n",
       "    </tr>\n",
       "    <tr>\n",
       "      <th>9</th>\n",
       "      <td>C00035</td>\n",
       "      <td>51</td>\n",
       "      <td>management</td>\n",
       "      <td>married</td>\n",
       "      <td>3.0</td>\n",
       "      <td>no</td>\n",
       "      <td>10635</td>\n",
       "      <td>yes</td>\n",
       "      <td>no</td>\n",
       "    </tr>\n",
       "  </tbody>\n",
       "</table>\n",
       "</div>"
      ],
      "text/plain": [
       "      cid  age          job  marital  education default  balance housing loan\n",
       "0  C00004   47  blue-collar  married        NaN      no     1506     yes   no\n",
       "1  C00005   33          NaN   single        NaN      no        1      no   no\n",
       "2  C00009   58      retired  married        1.0      no      121     yes   no\n",
       "3  C00021   28  blue-collar  married        2.0      no      723     yes  yes\n",
       "4  C00025   40      retired  married        1.0      no        0     yes  yes\n",
       "5  C00026   44       admin.  married        2.0      no     -372     yes   no\n",
       "6  C00027   39   management   single        3.0      no      255     yes   no\n",
       "7  C00029   46   management   single        2.0      no     -246     yes   no\n",
       "8  C00031   57   technician  married        2.0      no      839      no  yes\n",
       "9  C00035   51   management  married        3.0      no    10635     yes   no"
      ]
     },
     "execution_count": 9,
     "metadata": {},
     "output_type": "execute_result"
    }
   ],
   "source": [
    "df.head(10)  #  맨위에서 부터 10개 출력 \n",
    "# df.tail(10)  # 맨아래에서 부터 10개 출력"
   ]
  },
  {
   "cell_type": "code",
   "execution_count": null,
   "metadata": {},
   "outputs": [],
   "source": [
    "df.T # 데이터 전치 ( Columns <-> index )"
   ]
  },
  {
   "cell_type": "code",
   "execution_count": null,
   "metadata": {},
   "outputs": [],
   "source": [
    "df.sort_index(ascending=True) # ascending = False"
   ]
  },
  {
   "cell_type": "markdown",
   "metadata": {},
   "source": [
    "\n",
    "> 데이터 오름차순,내림차순 정렬 (index 기준) <br>"
   ]
  },
  {
   "cell_type": "code",
   "execution_count": null,
   "metadata": {},
   "outputs": [],
   "source": [
    "df.sort_values(by='age',ascending=False)"
   ]
  },
  {
   "cell_type": "markdown",
   "metadata": {},
   "source": [
    "\n",
    "> 데이터 값 기준으로 정렬(특정 column 선택) <br><br>"
   ]
  },
  {
   "cell_type": "markdown",
   "metadata": {},
   "source": [
    "### 2. Data Selection\n",
    "<br><br>"
   ]
  },
  {
   "cell_type": "code",
   "execution_count": null,
   "metadata": {
    "scrolled": true
   },
   "outputs": [],
   "source": [
    "# df['age'] \n",
    "df[['age','cid']]  # 다중선택 => [[]]\n",
    "\n",
    "# df.loc[[0,10]]"
   ]
  },
  {
   "cell_type": "markdown",
   "metadata": {},
   "source": [
    "> column 선택하기\n",
    "<br>"
   ]
  },
  {
   "cell_type": "code",
   "execution_count": 35,
   "metadata": {},
   "outputs": [
    {
     "data": {
      "text/html": [
       "<div>\n",
       "<style scoped>\n",
       "    .dataframe tbody tr th:only-of-type {\n",
       "        vertical-align: middle;\n",
       "    }\n",
       "\n",
       "    .dataframe tbody tr th {\n",
       "        vertical-align: top;\n",
       "    }\n",
       "\n",
       "    .dataframe thead th {\n",
       "        text-align: right;\n",
       "    }\n",
       "</style>\n",
       "<table border=\"1\" class=\"dataframe\">\n",
       "  <thead>\n",
       "    <tr style=\"text-align: right;\">\n",
       "      <th></th>\n",
       "      <th>cid</th>\n",
       "      <th>age</th>\n",
       "      <th>job</th>\n",
       "      <th>marital</th>\n",
       "      <th>education</th>\n",
       "      <th>default</th>\n",
       "      <th>balance</th>\n",
       "      <th>housing</th>\n",
       "      <th>loan</th>\n",
       "    </tr>\n",
       "  </thead>\n",
       "  <tbody>\n",
       "    <tr>\n",
       "      <th>0</th>\n",
       "      <td>C00004</td>\n",
       "      <td>47</td>\n",
       "      <td>blue-collar</td>\n",
       "      <td>married</td>\n",
       "      <td>NaN</td>\n",
       "      <td>no</td>\n",
       "      <td>1506</td>\n",
       "      <td>yes</td>\n",
       "      <td>no</td>\n",
       "    </tr>\n",
       "    <tr>\n",
       "      <th>1</th>\n",
       "      <td>C00005</td>\n",
       "      <td>33</td>\n",
       "      <td>NaN</td>\n",
       "      <td>single</td>\n",
       "      <td>NaN</td>\n",
       "      <td>no</td>\n",
       "      <td>1</td>\n",
       "      <td>no</td>\n",
       "      <td>no</td>\n",
       "    </tr>\n",
       "    <tr>\n",
       "      <th>2</th>\n",
       "      <td>C00009</td>\n",
       "      <td>58</td>\n",
       "      <td>retired</td>\n",
       "      <td>married</td>\n",
       "      <td>1.0</td>\n",
       "      <td>no</td>\n",
       "      <td>121</td>\n",
       "      <td>yes</td>\n",
       "      <td>no</td>\n",
       "    </tr>\n",
       "    <tr>\n",
       "      <th>3</th>\n",
       "      <td>C00021</td>\n",
       "      <td>28</td>\n",
       "      <td>blue-collar</td>\n",
       "      <td>married</td>\n",
       "      <td>2.0</td>\n",
       "      <td>no</td>\n",
       "      <td>723</td>\n",
       "      <td>yes</td>\n",
       "      <td>yes</td>\n",
       "    </tr>\n",
       "    <tr>\n",
       "      <th>4</th>\n",
       "      <td>C00025</td>\n",
       "      <td>40</td>\n",
       "      <td>retired</td>\n",
       "      <td>married</td>\n",
       "      <td>1.0</td>\n",
       "      <td>no</td>\n",
       "      <td>0</td>\n",
       "      <td>yes</td>\n",
       "      <td>yes</td>\n",
       "    </tr>\n",
       "    <tr>\n",
       "      <th>5</th>\n",
       "      <td>C00026</td>\n",
       "      <td>44</td>\n",
       "      <td>admin.</td>\n",
       "      <td>married</td>\n",
       "      <td>2.0</td>\n",
       "      <td>no</td>\n",
       "      <td>-372</td>\n",
       "      <td>yes</td>\n",
       "      <td>no</td>\n",
       "    </tr>\n",
       "    <tr>\n",
       "      <th>6</th>\n",
       "      <td>C00027</td>\n",
       "      <td>39</td>\n",
       "      <td>management</td>\n",
       "      <td>single</td>\n",
       "      <td>3.0</td>\n",
       "      <td>no</td>\n",
       "      <td>255</td>\n",
       "      <td>yes</td>\n",
       "      <td>no</td>\n",
       "    </tr>\n",
       "    <tr>\n",
       "      <th>7</th>\n",
       "      <td>C00029</td>\n",
       "      <td>46</td>\n",
       "      <td>management</td>\n",
       "      <td>single</td>\n",
       "      <td>2.0</td>\n",
       "      <td>no</td>\n",
       "      <td>-246</td>\n",
       "      <td>yes</td>\n",
       "      <td>no</td>\n",
       "    </tr>\n",
       "    <tr>\n",
       "      <th>8</th>\n",
       "      <td>C00031</td>\n",
       "      <td>57</td>\n",
       "      <td>technician</td>\n",
       "      <td>married</td>\n",
       "      <td>2.0</td>\n",
       "      <td>no</td>\n",
       "      <td>839</td>\n",
       "      <td>no</td>\n",
       "      <td>yes</td>\n",
       "    </tr>\n",
       "    <tr>\n",
       "      <th>9</th>\n",
       "      <td>C00035</td>\n",
       "      <td>51</td>\n",
       "      <td>management</td>\n",
       "      <td>married</td>\n",
       "      <td>3.0</td>\n",
       "      <td>no</td>\n",
       "      <td>10635</td>\n",
       "      <td>yes</td>\n",
       "      <td>no</td>\n",
       "    </tr>\n",
       "  </tbody>\n",
       "</table>\n",
       "</div>"
      ],
      "text/plain": [
       "      cid  age          job  marital  education default  balance housing loan\n",
       "0  C00004   47  blue-collar  married        NaN      no     1506     yes   no\n",
       "1  C00005   33          NaN   single        NaN      no        1      no   no\n",
       "2  C00009   58      retired  married        1.0      no      121     yes   no\n",
       "3  C00021   28  blue-collar  married        2.0      no      723     yes  yes\n",
       "4  C00025   40      retired  married        1.0      no        0     yes  yes\n",
       "5  C00026   44       admin.  married        2.0      no     -372     yes   no\n",
       "6  C00027   39   management   single        3.0      no      255     yes   no\n",
       "7  C00029   46   management   single        2.0      no     -246     yes   no\n",
       "8  C00031   57   technician  married        2.0      no      839      no  yes\n",
       "9  C00035   51   management  married        3.0      no    10635     yes   no"
      ]
     },
     "execution_count": 35,
     "metadata": {},
     "output_type": "execute_result"
    }
   ],
   "source": [
    "df[0:10] # 0~9 행 슬라이스  ## df.loc[0:10]"
   ]
  },
  {
   "cell_type": "markdown",
   "metadata": {},
   "source": [
    "> 슬라이스 <br>"
   ]
  },
  {
   "cell_type": "code",
   "execution_count": null,
   "metadata": {},
   "outputs": [],
   "source": [
    "# df[20130101 : 20150202] "
   ]
  },
  {
   "cell_type": "markdown",
   "metadata": {},
   "source": [
    "> range index뿐만 아니라 날짜 인덱스 등 다양한 형식 가능 <br>\n",
    "> 만약 index가 2013-05-02 인 경우 pandas에서 자동으로 20130502로 인식\n",
    "<br>"
   ]
  },
  {
   "cell_type": "markdown",
   "metadata": {},
   "source": [
    "<br>\n",
    "\n",
    "####  2.1 loc,iloc\n",
    "<br>"
   ]
  },
  {
   "cell_type": "markdown",
   "metadata": {},
   "source": [
    "> dataframe.loc[행,열] <br><br>\n",
    "loc[] 에 값을 하나만 넣는 경우 row 선택 <br>\n",
    "<br>\n",
    "> iloc는 정수형으로(몇번째부터 몇번째)으로 접근가능하지만 loc는 index가 정수형이 아닌경우(특정값 ex) 20130102 )인 경우를 고려해주어야 한다"
   ]
  },
  {
   "cell_type": "code",
   "execution_count": 4,
   "metadata": {},
   "outputs": [
    {
     "data": {
      "text/html": [
       "<div>\n",
       "<style scoped>\n",
       "    .dataframe tbody tr th:only-of-type {\n",
       "        vertical-align: middle;\n",
       "    }\n",
       "\n",
       "    .dataframe tbody tr th {\n",
       "        vertical-align: top;\n",
       "    }\n",
       "\n",
       "    .dataframe thead th {\n",
       "        text-align: right;\n",
       "    }\n",
       "</style>\n",
       "<table border=\"1\" class=\"dataframe\">\n",
       "  <thead>\n",
       "    <tr style=\"text-align: right;\">\n",
       "      <th></th>\n",
       "      <th>cid</th>\n",
       "      <th>age</th>\n",
       "      <th>job</th>\n",
       "      <th>marital</th>\n",
       "      <th>education</th>\n",
       "      <th>default</th>\n",
       "      <th>balance</th>\n",
       "      <th>housing</th>\n",
       "      <th>loan</th>\n",
       "    </tr>\n",
       "  </thead>\n",
       "  <tbody>\n",
       "    <tr>\n",
       "      <th>0</th>\n",
       "      <td>C00004</td>\n",
       "      <td>47</td>\n",
       "      <td>blue-collar</td>\n",
       "      <td>married</td>\n",
       "      <td>NaN</td>\n",
       "      <td>no</td>\n",
       "      <td>1506</td>\n",
       "      <td>yes</td>\n",
       "      <td>no</td>\n",
       "    </tr>\n",
       "    <tr>\n",
       "      <th>3</th>\n",
       "      <td>C00021</td>\n",
       "      <td>28</td>\n",
       "      <td>blue-collar</td>\n",
       "      <td>married</td>\n",
       "      <td>2.0</td>\n",
       "      <td>no</td>\n",
       "      <td>723</td>\n",
       "      <td>yes</td>\n",
       "      <td>yes</td>\n",
       "    </tr>\n",
       "  </tbody>\n",
       "</table>\n",
       "</div>"
      ],
      "text/plain": [
       "      cid  age          job  marital  education default  balance housing loan\n",
       "0  C00004   47  blue-collar  married        NaN      no     1506     yes   no\n",
       "3  C00021   28  blue-collar  married        2.0      no      723     yes  yes"
      ]
     },
     "execution_count": 4,
     "metadata": {},
     "output_type": "execute_result"
    }
   ],
   "source": [
    "# df.loc[3]        # index의 \"값\"이 3인 row의 값들을 선택\n",
    "# df.loc[0:3]      # index의 \"값\" 슬라이싱\n",
    "df.loc[[0,3]]"
   ]
  },
  {
   "cell_type": "code",
   "execution_count": 8,
   "metadata": {},
   "outputs": [
    {
     "data": {
      "text/html": [
       "<div>\n",
       "<style scoped>\n",
       "    .dataframe tbody tr th:only-of-type {\n",
       "        vertical-align: middle;\n",
       "    }\n",
       "\n",
       "    .dataframe tbody tr th {\n",
       "        vertical-align: top;\n",
       "    }\n",
       "\n",
       "    .dataframe thead th {\n",
       "        text-align: right;\n",
       "    }\n",
       "</style>\n",
       "<table border=\"1\" class=\"dataframe\">\n",
       "  <thead>\n",
       "    <tr style=\"text-align: right;\">\n",
       "      <th></th>\n",
       "      <th>cid</th>\n",
       "      <th>age</th>\n",
       "      <th>job</th>\n",
       "      <th>marital</th>\n",
       "      <th>education</th>\n",
       "      <th>default</th>\n",
       "      <th>balance</th>\n",
       "      <th>housing</th>\n",
       "      <th>loan</th>\n",
       "    </tr>\n",
       "  </thead>\n",
       "  <tbody>\n",
       "    <tr>\n",
       "      <th>7788</th>\n",
       "      <td>C25900</td>\n",
       "      <td>380</td>\n",
       "      <td>management</td>\n",
       "      <td>single</td>\n",
       "      <td>3.0</td>\n",
       "      <td>no</td>\n",
       "      <td>1998</td>\n",
       "      <td>no</td>\n",
       "      <td>no</td>\n",
       "    </tr>\n",
       "  </tbody>\n",
       "</table>\n",
       "</div>"
      ],
      "text/plain": [
       "         cid  age         job marital  education default  balance housing loan\n",
       "7788  C25900  380  management  single        3.0      no     1998      no   no"
      ]
     },
     "execution_count": 8,
     "metadata": {},
     "output_type": "execute_result"
    }
   ],
   "source": [
    "# df.age >300  # 블리언 타입 출력\n",
    "df.loc[ df.age > 300 ]   # boolean 활용 loc 슬라이싱"
   ]
  },
  {
   "cell_type": "markdown",
   "metadata": {},
   "source": [
    "> boolean값 활용 indexing <br>"
   ]
  },
  {
   "cell_type": "code",
   "execution_count": 12,
   "metadata": {},
   "outputs": [
    {
     "data": {
      "text/html": [
       "<div>\n",
       "<style scoped>\n",
       "    .dataframe tbody tr th:only-of-type {\n",
       "        vertical-align: middle;\n",
       "    }\n",
       "\n",
       "    .dataframe tbody tr th {\n",
       "        vertical-align: top;\n",
       "    }\n",
       "\n",
       "    .dataframe thead th {\n",
       "        text-align: right;\n",
       "    }\n",
       "</style>\n",
       "<table border=\"1\" class=\"dataframe\">\n",
       "  <thead>\n",
       "    <tr style=\"text-align: right;\">\n",
       "      <th></th>\n",
       "      <th>cid</th>\n",
       "      <th>age</th>\n",
       "      <th>job</th>\n",
       "      <th>marital</th>\n",
       "      <th>education</th>\n",
       "      <th>default</th>\n",
       "      <th>balance</th>\n",
       "      <th>housing</th>\n",
       "      <th>loan</th>\n",
       "    </tr>\n",
       "  </thead>\n",
       "  <tbody>\n",
       "    <tr>\n",
       "      <th>7788</th>\n",
       "      <td>C25900</td>\n",
       "      <td>380</td>\n",
       "      <td>management</td>\n",
       "      <td>single</td>\n",
       "      <td>3.0</td>\n",
       "      <td>no</td>\n",
       "      <td>1998</td>\n",
       "      <td>no</td>\n",
       "      <td>no</td>\n",
       "    </tr>\n",
       "  </tbody>\n",
       "</table>\n",
       "</div>"
      ],
      "text/plain": [
       "         cid  age         job marital  education default  balance housing loan\n",
       "7788  C25900  380  management  single        3.0      no     1998      no   no"
      ]
     },
     "execution_count": 12,
     "metadata": {},
     "output_type": "execute_result"
    }
   ],
   "source": [
    "def re_index(df):\n",
    "    return df.age > 300  # age 300 이상 블리언 판별 함수\n",
    "\n",
    "df.loc[re_index(df)]  #  loc의 행을 함수값으로 줌  "
   ]
  },
  {
   "cell_type": "markdown",
   "metadata": {},
   "source": [
    "> 함수 활용 <br>"
   ]
  },
  {
   "cell_type": "code",
   "execution_count": 18,
   "metadata": {
    "scrolled": true
   },
   "outputs": [
    {
     "data": {
      "text/html": [
       "<div>\n",
       "<style scoped>\n",
       "    .dataframe tbody tr th:only-of-type {\n",
       "        vertical-align: middle;\n",
       "    }\n",
       "\n",
       "    .dataframe tbody tr th {\n",
       "        vertical-align: top;\n",
       "    }\n",
       "\n",
       "    .dataframe thead th {\n",
       "        text-align: right;\n",
       "    }\n",
       "</style>\n",
       "<table border=\"1\" class=\"dataframe\">\n",
       "  <thead>\n",
       "    <tr style=\"text-align: right;\">\n",
       "      <th></th>\n",
       "      <th>age</th>\n",
       "      <th>cid</th>\n",
       "    </tr>\n",
       "  </thead>\n",
       "  <tbody>\n",
       "    <tr>\n",
       "      <th>35</th>\n",
       "      <td>59</td>\n",
       "      <td>C00109</td>\n",
       "    </tr>\n",
       "    <tr>\n",
       "      <th>36</th>\n",
       "      <td>45</td>\n",
       "      <td>C00110</td>\n",
       "    </tr>\n",
       "    <tr>\n",
       "      <th>37</th>\n",
       "      <td>29</td>\n",
       "      <td>C00111</td>\n",
       "    </tr>\n",
       "    <tr>\n",
       "      <th>38</th>\n",
       "      <td>46</td>\n",
       "      <td>C00112</td>\n",
       "    </tr>\n",
       "    <tr>\n",
       "      <th>39</th>\n",
       "      <td>36</td>\n",
       "      <td>C00114</td>\n",
       "    </tr>\n",
       "    <tr>\n",
       "      <th>40</th>\n",
       "      <td>57</td>\n",
       "      <td>C00120</td>\n",
       "    </tr>\n",
       "    <tr>\n",
       "      <th>41</th>\n",
       "      <td>29</td>\n",
       "      <td>C00127</td>\n",
       "    </tr>\n",
       "    <tr>\n",
       "      <th>42</th>\n",
       "      <td>31</td>\n",
       "      <td>C00129</td>\n",
       "    </tr>\n",
       "    <tr>\n",
       "      <th>43</th>\n",
       "      <td>38</td>\n",
       "      <td>C00133</td>\n",
       "    </tr>\n",
       "    <tr>\n",
       "      <th>44</th>\n",
       "      <td>43</td>\n",
       "      <td>C00138</td>\n",
       "    </tr>\n",
       "    <tr>\n",
       "      <th>45</th>\n",
       "      <td>46</td>\n",
       "      <td>C00140</td>\n",
       "    </tr>\n",
       "  </tbody>\n",
       "</table>\n",
       "</div>"
      ],
      "text/plain": [
       "    age     cid\n",
       "35   59  C00109\n",
       "36   45  C00110\n",
       "37   29  C00111\n",
       "38   46  C00112\n",
       "39   36  C00114\n",
       "40   57  C00120\n",
       "41   29  C00127\n",
       "42   31  C00129\n",
       "43   38  C00133\n",
       "44   43  C00138\n",
       "45   46  C00140"
      ]
     },
     "execution_count": 18,
     "metadata": {},
     "output_type": "execute_result"
    }
   ],
   "source": [
    "# df.loc[:,['cid','age','job']]  #  loc [행 전체 , 컬럼 사용자지정]\n",
    "\n",
    "df.loc[35:45,['age','cid']]  # loc [35~45 행, 컬럼 사용자 지정]"
   ]
  },
  {
   "cell_type": "markdown",
   "metadata": {},
   "source": [
    "<br>"
   ]
  },
  {
   "cell_type": "code",
   "execution_count": 23,
   "metadata": {},
   "outputs": [
    {
     "data": {
      "text/plain": [
       "0    47\n",
       "1    33\n",
       "2    58\n",
       "3    28\n",
       "4    40\n",
       "5    44\n",
       "6    39\n",
       "7    46\n",
       "8    57\n",
       "9    51\n",
       "Name: age, dtype: int64"
      ]
     },
     "execution_count": 23,
     "metadata": {},
     "output_type": "execute_result"
    }
   ],
   "source": [
    "df.iloc[0:10,1]   # iloc 사용"
   ]
  },
  {
   "cell_type": "markdown",
   "metadata": {},
   "source": [
    "> iloc <br>\n",
    "> iloc는 loc와 다르게 integer 타입으로만 범위 지정이 가능하다 <br>\n",
    "> loc처럼 특정 값의 형식으로 index를 지정할 수 없고 오직 몇번째인지 integer형식으로만 지정 가능\n",
    "> df.iloc[row index range , column range]\n",
    "<br><br>"
   ]
  },
  {
   "cell_type": "markdown",
   "metadata": {},
   "source": [
    "### 3. Data Setting\n",
    "<br><br>"
   ]
  },
  {
   "cell_type": "code",
   "execution_count": 136,
   "metadata": {},
   "outputs": [
    {
     "data": {
      "text/html": [
       "<div>\n",
       "<style scoped>\n",
       "    .dataframe tbody tr th:only-of-type {\n",
       "        vertical-align: middle;\n",
       "    }\n",
       "\n",
       "    .dataframe tbody tr th {\n",
       "        vertical-align: top;\n",
       "    }\n",
       "\n",
       "    .dataframe thead th {\n",
       "        text-align: right;\n",
       "    }\n",
       "</style>\n",
       "<table border=\"1\" class=\"dataframe\">\n",
       "  <thead>\n",
       "    <tr style=\"text-align: right;\">\n",
       "      <th></th>\n",
       "      <th>E</th>\n",
       "    </tr>\n",
       "  </thead>\n",
       "  <tbody>\n",
       "    <tr>\n",
       "      <th>0</th>\n",
       "      <td>5</td>\n",
       "    </tr>\n",
       "    <tr>\n",
       "      <th>1</th>\n",
       "      <td>5</td>\n",
       "    </tr>\n",
       "    <tr>\n",
       "      <th>2</th>\n",
       "      <td>5</td>\n",
       "    </tr>\n",
       "    <tr>\n",
       "      <th>3</th>\n",
       "      <td>5</td>\n",
       "    </tr>\n",
       "    <tr>\n",
       "      <th>4</th>\n",
       "      <td>5</td>\n",
       "    </tr>\n",
       "    <tr>\n",
       "      <th>5</th>\n",
       "      <td>5</td>\n",
       "    </tr>\n",
       "    <tr>\n",
       "      <th>6</th>\n",
       "      <td>5</td>\n",
       "    </tr>\n",
       "    <tr>\n",
       "      <th>7</th>\n",
       "      <td>5</td>\n",
       "    </tr>\n",
       "    <tr>\n",
       "      <th>8</th>\n",
       "      <td>5</td>\n",
       "    </tr>\n",
       "    <tr>\n",
       "      <th>9</th>\n",
       "      <td>5</td>\n",
       "    </tr>\n",
       "    <tr>\n",
       "      <th>10</th>\n",
       "      <td>5</td>\n",
       "    </tr>\n",
       "  </tbody>\n",
       "</table>\n",
       "</div>"
      ],
      "text/plain": [
       "    E\n",
       "0   5\n",
       "1   5\n",
       "2   5\n",
       "3   5\n",
       "4   5\n",
       "5   5\n",
       "6   5\n",
       "7   5\n",
       "8   5\n",
       "9   5\n",
       "10  5"
      ]
     },
     "execution_count": 136,
     "metadata": {},
     "output_type": "execute_result"
    }
   ],
   "source": [
    "# 데이터 프레임에 새로운 col을 추가할 경우 index range에 맞게 값 지정해주는 방법\n",
    "\n",
    "df_2 = df # 복사본 생성\n",
    "# df_2['E'] = df['cid']  # df_2[E] 컬럼을 원본읜 cid컬럼 가져와서 생성 (* 행범위 맞추기 위해)\n",
    "# 이런식으로 만들면 이미 만들어져 있는(범위에 맞게) 컬럼만 사용가능\n",
    "\n",
    "\n",
    "df_2.loc[:,'E'] = np.array([5] * len(df_2))  # df_2의 E컬럼선택후 np.array로 df_2의 len만큼 5 지정\n",
    "df_2.loc[0:10,['E']]  ## 확인"
   ]
  },
  {
   "cell_type": "code",
   "execution_count": null,
   "metadata": {},
   "outputs": [],
   "source": [
    "#  df2 = df.copy()\n",
    "#  df2[df2 > 0] = -df2  \n",
    "#  df2"
   ]
  },
  {
   "cell_type": "markdown",
   "metadata": {},
   "source": [
    "<br><br>\n",
    "###  4. Missing Data(결측치)\n",
    "<br>"
   ]
  },
  {
   "cell_type": "markdown",
   "metadata": {},
   "source": [
    "> 결측값 확인하기\n",
    "<br>"
   ]
  },
  {
   "cell_type": "code",
   "execution_count": 138,
   "metadata": {},
   "outputs": [],
   "source": [
    "# df.isnull() # 실행시 전체 dataset 결측값 여부 true / false 형식으로 반환    # notnull 은 반대로 반환"
   ]
  },
  {
   "cell_type": "code",
   "execution_count": null,
   "metadata": {},
   "outputs": [],
   "source": [
    "df.isnull().sum()  # 컬럼별 결측값 개수 확인 \n",
    "\n",
    "# 결측치 갯수 파악하고자 할 경우 count 사용하면 안됨 , count는 결측값 상관안하고 행의 갯수를 반환함\n",
    "\n",
    "# df.notnull().sum()  # 컬럼별 결측값을 제외한 값의 개수 확인"
   ]
  },
  {
   "cell_type": "code",
   "execution_count": 30,
   "metadata": {},
   "outputs": [
    {
     "data": {
      "text/plain": [
       "568"
      ]
     },
     "execution_count": 30,
     "metadata": {},
     "output_type": "execute_result"
    }
   ],
   "source": [
    "df['education'].isnull().sum()   # 특정컬럼 결측값 개수 확인"
   ]
  },
  {
   "cell_type": "code",
   "execution_count": null,
   "metadata": {},
   "outputs": [],
   "source": [
    "df.isnull().sum(1)  # row 별 결측값 개수 확인\n",
    "\n",
    "# df.notnull().sum(1)  # row 별 결측값 제외 개수 확인"
   ]
  },
  {
   "cell_type": "markdown",
   "metadata": {},
   "source": [
    "<br>\n",
    "> 결측값 처리하기"
   ]
  },
  {
   "cell_type": "code",
   "execution_count": 36,
   "metadata": {},
   "outputs": [
    {
     "data": {
      "text/plain": [
       "cid            0\n",
       "age            0\n",
       "job           87\n",
       "marital        0\n",
       "education    568\n",
       "default        0\n",
       "balance        0\n",
       "housing        0\n",
       "loan           0\n",
       "dtype: int64"
      ]
     },
     "execution_count": 36,
     "metadata": {},
     "output_type": "execute_result"
    }
   ],
   "source": [
    "df.isnull().sum()"
   ]
  },
  {
   "cell_type": "code",
   "execution_count": 4,
   "metadata": {},
   "outputs": [],
   "source": [
    "# df_3 = df  #  복사본 생성\n",
    "# df_3.fillna(value=5)  # 모든 결측값을 5로 대체\n",
    "# df_3.filna(value=\"string\")  # 모든 결측값을 missing라는 str값으로 대체 \n",
    "\n",
    "# df_4 = df\n",
    "# df_4.dropna(how='any')  # 결측값을 가지고 있는 모든 행 제거\n",
    "\n",
    "# df_5 = df\n",
    "# df_5.isna()   # 데이터프레임의 모든 값을 boolean 형태로 표시하고 결측값만 True값으로"
   ]
  },
  {
   "cell_type": "markdown",
   "metadata": {},
   "source": [
    "> 결측값 연산시 <br>\n",
    "\n",
    "1. sum, comsum 연산시 => 0으로 처리 <br> \n",
    "2. mean, std 연산시 => 분석대상에서 제외 <br>\n",
    "3. column간 연산시 하나라도 결측값이면 결측값으로 반환됨 ( ex) 컬럼1 + 컬럼2 = 컬럼3 으로 표현하는 경우) <br>\n",
    "4. dataframe간 연산시 동일한 컬럼끼리는 non을 0으로 처리, 한쪽에만 존재하는 컬럼과의 연산은 non 반환\n",
    "<br><br>"
   ]
  },
  {
   "cell_type": "markdown",
   "metadata": {},
   "source": [
    "> 결측값을 가진 행만 추출하기"
   ]
  },
  {
   "cell_type": "code",
   "execution_count": 1,
   "metadata": {},
   "outputs": [],
   "source": [
    "# train.loc[(train.isnull().sum(1) >= 1) , : ]\n",
    "\n",
    "# loc [ 행, 열]\n",
    "# df.isnull().sum(1) => 행기준, 결측값 개수\n",
    "# df.isnull().sum(1) >= 1      => 행기준 결측값 개수가 1보다 큰 행들\n",
    "\n",
    "# 즉, 결측값을 1개 이상 갖고있는 행들만 반환 (모든 열에 대하여)"
   ]
  },
  {
   "cell_type": "markdown",
   "metadata": {},
   "source": [
    "#### apply로 함수 적용\n",
    "\n",
    "<br>\n",
    "\n",
    "> 인자를 여러개 받을 경우 => apply 사용"
   ]
  },
  {
   "cell_type": "code",
   "execution_count": 9,
   "metadata": {},
   "outputs": [
    {
     "data": {
      "text/plain": [
       "0    [47]\n",
       "1    [33]\n",
       "2    [58]\n",
       "3    [28]\n",
       "4    [40]\n",
       "5    [44]\n",
       "6    [39]\n",
       "7    [46]\n",
       "8    [57]\n",
       "9    [51]\n",
       "Name: age, dtype: object"
      ]
     },
     "execution_count": 9,
     "metadata": {},
     "output_type": "execute_result"
    }
   ],
   "source": [
    "df_5['age'].iloc[:10].apply(np.cumsum)   # np.cumsum함수를 apply 사용하여 적용"
   ]
  },
  {
   "cell_type": "code",
   "execution_count": 73,
   "metadata": {},
   "outputs": [
    {
     "data": {
      "text/html": [
       "<div>\n",
       "<style scoped>\n",
       "    .dataframe tbody tr th:only-of-type {\n",
       "        vertical-align: middle;\n",
       "    }\n",
       "\n",
       "    .dataframe tbody tr th {\n",
       "        vertical-align: top;\n",
       "    }\n",
       "\n",
       "    .dataframe thead th {\n",
       "        text-align: right;\n",
       "    }\n",
       "</style>\n",
       "<table border=\"1\" class=\"dataframe\">\n",
       "  <thead>\n",
       "    <tr style=\"text-align: right;\">\n",
       "      <th></th>\n",
       "      <th>A</th>\n",
       "      <th>C</th>\n",
       "    </tr>\n",
       "  </thead>\n",
       "  <tbody>\n",
       "    <tr>\n",
       "      <th>0</th>\n",
       "      <td>1</td>\n",
       "      <td>1.0</td>\n",
       "    </tr>\n",
       "    <tr>\n",
       "      <th>1</th>\n",
       "      <td>2</td>\n",
       "      <td>1.0</td>\n",
       "    </tr>\n",
       "    <tr>\n",
       "      <th>2</th>\n",
       "      <td>3</td>\n",
       "      <td>1.0</td>\n",
       "    </tr>\n",
       "    <tr>\n",
       "      <th>3</th>\n",
       "      <td>4</td>\n",
       "      <td>1.0</td>\n",
       "    </tr>\n",
       "  </tbody>\n",
       "</table>\n",
       "</div>"
      ],
      "text/plain": [
       "   A    C\n",
       "0  1  1.0\n",
       "1  2  1.0\n",
       "2  3  1.0\n",
       "3  4  1.0"
      ]
     },
     "execution_count": 73,
     "metadata": {},
     "output_type": "execute_result"
    }
   ],
   "source": [
    "df_t = pd.DataFrame({'A' : [1,2,3,4],\n",
    "                    'C' : pd.Series(1,index=list(range(4)),dtype='float32') })\n",
    "\n",
    "df_t # testDF 생성"
   ]
  },
  {
   "cell_type": "code",
   "execution_count": null,
   "metadata": {},
   "outputs": [],
   "source": [
    "df_t[['A','C']].apply(lambda x: x.max()-x.min(), axis = 0 )  # axis=0 =>  column 기준 함수연산\n",
    "df_t[['A','C']].apply(lambda x: x.max()-x.min(), axis = 1 )  # axis=1 => row별 함수연산"
   ]
  },
  {
   "cell_type": "markdown",
   "metadata": {},
   "source": [
    "<br>\n",
    "\n",
    "##### lambda  \n",
    "\n",
    "<br>\n",
    "\n",
    ">'익명함수'를 뜻하며, 변수에 할당하지 않고 사용한다 <br>\n",
    "> 함수를 간단하게 사용할 수 있음\n",
    "\n",
    "<br>\n",
    "\n",
    "* lambda 인자 : 표현식"
   ]
  },
  {
   "cell_type": "code",
   "execution_count": 13,
   "metadata": {},
   "outputs": [],
   "source": [
    "#  hap 함수정의 \n",
    "def hap(x, y):\n",
    "    return x + y"
   ]
  },
  {
   "cell_type": "code",
   "execution_count": 5,
   "metadata": {},
   "outputs": [
    {
     "data": {
      "text/plain": [
       "30"
      ]
     },
     "execution_count": 5,
     "metadata": {},
     "output_type": "execute_result"
    }
   ],
   "source": [
    "# hap함수를 lambda로\n",
    "(lambda x,y: x + y)(10, 20)"
   ]
  },
  {
   "cell_type": "code",
   "execution_count": 1,
   "metadata": {},
   "outputs": [],
   "source": [
    "# 인자를 넣지 않은 경우 \n",
    "# lambda : 0  => 모든 인자를 0으로 바꾼다"
   ]
  },
  {
   "cell_type": "markdown",
   "metadata": {},
   "source": [
    "<br>\n",
    "\n",
    "#### map\n",
    "<br>\n",
    "> map(함수,리스트) <br>\n",
    "> map은 함수와 리스트를 인자로 받은후, 리스트로부터 하나씩 값을 꺼내 함수를 적용시킨 후 새로운 리스트에 결과값을 담는다\n"
   ]
  },
  {
   "cell_type": "code",
   "execution_count": 8,
   "metadata": {},
   "outputs": [
    {
     "data": {
      "text/plain": [
       "[0, 1, 4, 9, 16]"
      ]
     },
     "execution_count": 8,
     "metadata": {},
     "output_type": "execute_result"
    }
   ],
   "source": [
    "# 1. lambda 함수 생성\n",
    "lambda x : x**2\n",
    "\n",
    "# 2. map 함수 생성 => map(함수,리스트)  ## range(5) => [0,1,2,3,4] 리스트 반환\n",
    "map(lambda x:x**2,range(5))\n",
    "\n",
    "# 3. map함수의 결과를 새로운 list에 담아냄\n",
    "list(map(lambda x : x**2,range(5)))"
   ]
  },
  {
   "cell_type": "markdown",
   "metadata": {},
   "source": [
    "<br>\n",
    "\n",
    "#### reduce\n",
    "<br>\n",
    "> reduce는 *순서형자료(리스트,튜플,문자열)의 원소들을 누적적으로 함수에 적용시켜 줌 <br>\n",
    "> reduce(함수,순서형자료)"
   ]
  },
  {
   "cell_type": "code",
   "execution_count": 35,
   "metadata": {},
   "outputs": [
    {
     "data": {
      "text/plain": [
       "10"
      ]
     },
     "execution_count": 35,
     "metadata": {},
     "output_type": "execute_result"
    }
   ],
   "source": [
    "# from functools import reduce  # reduce import\n",
    "\n",
    "reduce(lambda x,y : x+y , range(5))\n",
    "# reduce(lambda x,y : x+y , [0,1,2,3,4])\n",
    "# reduce(lambda x,y : x+y , \"안녕하세요\")\n",
    "# reduce(lambda x,y : x+y , (3,4,5))"
   ]
  },
  {
   "cell_type": "markdown",
   "metadata": {},
   "source": [
    "<br>\n",
    "\n",
    "#### filter\n",
    "<br>\n",
    "\n",
    "> filter(함수,리스트) <br>\n",
    "> 리스트에서 함수의 조건에 참인값들을 걸러 새로운 리스트에 담아냄 <br>"
   ]
  },
  {
   "cell_type": "code",
   "execution_count": 45,
   "metadata": {},
   "outputs": [
    {
     "data": {
      "text/plain": [
       "[6, 7, 8, 9]"
      ]
     },
     "execution_count": 45,
     "metadata": {},
     "output_type": "execute_result"
    }
   ],
   "source": [
    "list(filter(lambda x : x>5 ,range(10)))"
   ]
  },
  {
   "cell_type": "code",
   "execution_count": 53,
   "metadata": {},
   "outputs": [
    {
     "data": {
      "text/plain": [
       "[-1, -2, 1, 2, 3, 4]"
      ]
     },
     "execution_count": 53,
     "metadata": {},
     "output_type": "execute_result"
    }
   ],
   "source": [
    "list(filter(lambda x : x, [-1,-2,0,1,2,3,4]))  # 0은 F값이므로 걸러짐 즉, 0이 되는것을 함수에 의해 0(Flase)가 되는것을 filterling"
   ]
  },
  {
   "cell_type": "markdown",
   "metadata": {},
   "source": [
    "<br><br>\n",
    "###  5. GROUPING\n",
    "<br><br>\n",
    "\n",
    "<br>\n",
    "\n",
    "> 몇몇 기준에 따라 여러 그룹으로 데이터를 분할 (splitting) <br>\n",
    "> 각 그룹에 독립적으로 함수를 적용 (applying) <br>\n",
    "> 결과물들을 하나의 데이터 구조로 결합 (combining) <br>\n",
    "<br> \n",
    "\n",
    "> 통계량을 계산할 열.groupby(기준 열)\n",
    "> 지정한 \"그룹\"별로 통계량 측정 위해 사용"
   ]
  },
  {
   "cell_type": "code",
   "execution_count": 99,
   "metadata": {},
   "outputs": [
    {
     "data": {
      "text/html": [
       "<div>\n",
       "<style scoped>\n",
       "    .dataframe tbody tr th:only-of-type {\n",
       "        vertical-align: middle;\n",
       "    }\n",
       "\n",
       "    .dataframe tbody tr th {\n",
       "        vertical-align: top;\n",
       "    }\n",
       "\n",
       "    .dataframe thead th {\n",
       "        text-align: right;\n",
       "    }\n",
       "</style>\n",
       "<table border=\"1\" class=\"dataframe\">\n",
       "  <thead>\n",
       "    <tr style=\"text-align: right;\">\n",
       "      <th></th>\n",
       "      <th>cid</th>\n",
       "      <th>age</th>\n",
       "      <th>marital</th>\n",
       "      <th>education</th>\n",
       "      <th>default</th>\n",
       "      <th>balance</th>\n",
       "      <th>housing</th>\n",
       "      <th>loan</th>\n",
       "    </tr>\n",
       "    <tr>\n",
       "      <th>job</th>\n",
       "      <th></th>\n",
       "      <th></th>\n",
       "      <th></th>\n",
       "      <th></th>\n",
       "      <th></th>\n",
       "      <th></th>\n",
       "      <th></th>\n",
       "      <th></th>\n",
       "    </tr>\n",
       "  </thead>\n",
       "  <tbody>\n",
       "    <tr>\n",
       "      <th>admin.</th>\n",
       "      <td>C45174</td>\n",
       "      <td>69</td>\n",
       "      <td>single</td>\n",
       "      <td>3.0</td>\n",
       "      <td>yes</td>\n",
       "      <td>18188</td>\n",
       "      <td>yes</td>\n",
       "      <td>yes</td>\n",
       "    </tr>\n",
       "    <tr>\n",
       "      <th>blue-collar</th>\n",
       "      <td>C45182</td>\n",
       "      <td>70</td>\n",
       "      <td>single</td>\n",
       "      <td>3.0</td>\n",
       "      <td>yes</td>\n",
       "      <td>66653</td>\n",
       "      <td>yes</td>\n",
       "      <td>yes</td>\n",
       "    </tr>\n",
       "    <tr>\n",
       "      <th>entrepreneur</th>\n",
       "      <td>C45176</td>\n",
       "      <td>270</td>\n",
       "      <td>single</td>\n",
       "      <td>3.0</td>\n",
       "      <td>yes</td>\n",
       "      <td>42045</td>\n",
       "      <td>yes</td>\n",
       "      <td>yes</td>\n",
       "    </tr>\n",
       "    <tr>\n",
       "      <th>housemaid</th>\n",
       "      <td>C45030</td>\n",
       "      <td>82</td>\n",
       "      <td>single</td>\n",
       "      <td>3.0</td>\n",
       "      <td>yes</td>\n",
       "      <td>23663</td>\n",
       "      <td>yes</td>\n",
       "      <td>yes</td>\n",
       "    </tr>\n",
       "    <tr>\n",
       "      <th>management</th>\n",
       "      <td>C45198</td>\n",
       "      <td>380</td>\n",
       "      <td>single</td>\n",
       "      <td>3.0</td>\n",
       "      <td>yes</td>\n",
       "      <td>98417</td>\n",
       "      <td>yes</td>\n",
       "      <td>yes</td>\n",
       "    </tr>\n",
       "    <tr>\n",
       "      <th>retired</th>\n",
       "      <td>C45205</td>\n",
       "      <td>92</td>\n",
       "      <td>single</td>\n",
       "      <td>3.0</td>\n",
       "      <td>yes</td>\n",
       "      <td>81204</td>\n",
       "      <td>yes</td>\n",
       "      <td>yes</td>\n",
       "    </tr>\n",
       "    <tr>\n",
       "      <th>self-employed</th>\n",
       "      <td>C45098</td>\n",
       "      <td>71</td>\n",
       "      <td>single</td>\n",
       "      <td>3.0</td>\n",
       "      <td>yes</td>\n",
       "      <td>34247</td>\n",
       "      <td>yes</td>\n",
       "      <td>yes</td>\n",
       "    </tr>\n",
       "    <tr>\n",
       "      <th>services</th>\n",
       "      <td>C45186</td>\n",
       "      <td>69</td>\n",
       "      <td>single</td>\n",
       "      <td>3.0</td>\n",
       "      <td>yes</td>\n",
       "      <td>57435</td>\n",
       "      <td>yes</td>\n",
       "      <td>yes</td>\n",
       "    </tr>\n",
       "    <tr>\n",
       "      <th>student</th>\n",
       "      <td>C45204</td>\n",
       "      <td>47</td>\n",
       "      <td>single</td>\n",
       "      <td>3.0</td>\n",
       "      <td>yes</td>\n",
       "      <td>24025</td>\n",
       "      <td>yes</td>\n",
       "      <td>yes</td>\n",
       "    </tr>\n",
       "    <tr>\n",
       "      <th>technician</th>\n",
       "      <td>C45183</td>\n",
       "      <td>71</td>\n",
       "      <td>single</td>\n",
       "      <td>3.0</td>\n",
       "      <td>yes</td>\n",
       "      <td>29207</td>\n",
       "      <td>yes</td>\n",
       "      <td>yes</td>\n",
       "    </tr>\n",
       "    <tr>\n",
       "      <th>unemployed</th>\n",
       "      <td>C45167</td>\n",
       "      <td>65</td>\n",
       "      <td>single</td>\n",
       "      <td>3.0</td>\n",
       "      <td>yes</td>\n",
       "      <td>19690</td>\n",
       "      <td>yes</td>\n",
       "      <td>yes</td>\n",
       "    </tr>\n",
       "  </tbody>\n",
       "</table>\n",
       "</div>"
      ],
      "text/plain": [
       "                  cid  age marital  education default  balance housing loan\n",
       "job                                                                        \n",
       "admin.         C45174   69  single        3.0     yes    18188     yes  yes\n",
       "blue-collar    C45182   70  single        3.0     yes    66653     yes  yes\n",
       "entrepreneur   C45176  270  single        3.0     yes    42045     yes  yes\n",
       "housemaid      C45030   82  single        3.0     yes    23663     yes  yes\n",
       "management     C45198  380  single        3.0     yes    98417     yes  yes\n",
       "retired        C45205   92  single        3.0     yes    81204     yes  yes\n",
       "self-employed  C45098   71  single        3.0     yes    34247     yes  yes\n",
       "services       C45186   69  single        3.0     yes    57435     yes  yes\n",
       "student        C45204   47  single        3.0     yes    24025     yes  yes\n",
       "technician     C45183   71  single        3.0     yes    29207     yes  yes\n",
       "unemployed     C45167   65  single        3.0     yes    19690     yes  yes"
      ]
     },
     "execution_count": 99,
     "metadata": {},
     "output_type": "execute_result"
    }
   ],
   "source": [
    "## job 기준 groupby\n",
    "df_grouped_job = df.groupby(df['job']).max()\n",
    "df_grouped_job"
   ]
  },
  {
   "cell_type": "code",
   "execution_count": 100,
   "metadata": {
    "scrolled": true
   },
   "outputs": [
    {
     "data": {
      "text/plain": [
       "job\n",
       "admin.            939.976760\n",
       "blue-collar      1071.583807\n",
       "entrepreneur     1363.362981\n",
       "housemaid        1330.928753\n",
       "management       1773.943856\n",
       "retired          2087.175595\n",
       "self-employed    1752.765864\n",
       "services         1013.221951\n",
       "student          1551.338762\n",
       "technician       1238.845514\n",
       "unemployed       1536.778920\n",
       "Name: balance, dtype: float64"
      ]
     },
     "execution_count": 100,
     "metadata": {},
     "output_type": "execute_result"
    }
   ],
   "source": [
    "##  job컬럼 기준 balance 평균\n",
    "df_grouped_job_balance = df['balance'].groupby(df['job']).mean()\n",
    "df_grouped_job_balance"
   ]
  },
  {
   "cell_type": "code",
   "execution_count": 107,
   "metadata": {
    "scrolled": false
   },
   "outputs": [
    {
     "data": {
      "text/plain": [
       "job            marital \n",
       "admin.         divorced     758.852814\n",
       "               married     1019.399464\n",
       "               single       907.066163\n",
       "blue-collar    divorced     640.765766\n",
       "               married     1129.329787\n",
       "               single      1023.310744\n",
       "entrepreneur   divorced    1036.860000\n",
       "               married     1500.523810\n",
       "               single      1030.027778\n",
       "housemaid      divorced    1478.473684\n",
       "               married     1138.844828\n",
       "               single      2359.065217\n",
       "management     divorced    1577.430818\n",
       "               married     1870.109547\n",
       "               single      1666.394318\n",
       "retired        divorced    1896.000000\n",
       "               married     2153.207101\n",
       "               single      1821.615385\n",
       "self-employed  divorced    1706.800000\n",
       "               married     1846.223404\n",
       "               single      1571.162963\n",
       "services       divorced     920.386076\n",
       "               married     1176.556172\n",
       "               single       719.501425\n",
       "student        divorced    1092.333333\n",
       "               married     1062.066667\n",
       "               single      1581.498270\n",
       "technician     divorced     880.161172\n",
       "               married     1330.523539\n",
       "               single      1219.580769\n",
       "unemployed     divorced    1293.696970\n",
       "               married     1567.086364\n",
       "               single      1546.735294\n",
       "Name: balance, dtype: float64"
      ]
     },
     "execution_count": 107,
     "metadata": {},
     "output_type": "execute_result"
    }
   ],
   "source": [
    "## job,marital(2개 컬럼) 기준 balance 평균 \n",
    "df_grouped_job_marital = df['balance'].groupby([df['job'],df['marital']]).mean()\n",
    "df_grouped_job_marital"
   ]
  },
  {
   "cell_type": "code",
   "execution_count": null,
   "metadata": {},
   "outputs": [],
   "source": [
    "# 그룹화 - '선별' 단위로 각각의 노선에 대한 총 갯수\n",
    "tmp1 = df.groupby(df['선별'])['선별'].count() # 선별 갯수만 보고싶은경우\n",
    "tmp1"
   ]
  },
  {
   "cell_type": "code",
   "execution_count": 3,
   "metadata": {},
   "outputs": [],
   "source": [
    "#  transfomr 메서드\n",
    "#  groupby의 transform 메서드를 사용해 그룹에 대한 대표값을 만드는것이 아닌 그룹별 계산을 통해 데이터 자체를 변형한다\n",
    "\n",
    "# 예제\n",
    "#  df = pd.DataFrame({'group_1': ['a', 'a', 'a', 'a', 'a',  \n",
    "\n",
    "#                                   'b', 'b', 'b', 'b', 'b',], \n",
    "\n",
    "#                        'group_2': ['c', 'c', 'c', 'd', 'd', \n",
    "\n",
    "#                                      'e', 'e', 'e', 'f', 'f'], \n",
    "\n",
    "#                        'col': [1, 2, np.NaN, 4, np.NaN, \n",
    "\n",
    "#                               6, 7, np.NaN, 9, 10]})\n",
    "\n",
    "# df['nn'] = df.groupby(['group_1','group_2'])['col'].transform('max') \n",
    "# grouped된 그룹에서 가장 큰 값으로 새로 만들 컬럼('nn')의 값을 채움"
   ]
  },
  {
   "cell_type": "markdown",
   "metadata": {},
   "source": [
    "<br><br>\n",
    "### 6. Categorical Data\n",
    "<br><br>"
   ]
  },
  {
   "cell_type": "code",
   "execution_count": 128,
   "metadata": {},
   "outputs": [
    {
     "data": {
      "text/html": [
       "<div>\n",
       "<style scoped>\n",
       "    .dataframe tbody tr th:only-of-type {\n",
       "        vertical-align: middle;\n",
       "    }\n",
       "\n",
       "    .dataframe tbody tr th {\n",
       "        vertical-align: top;\n",
       "    }\n",
       "\n",
       "    .dataframe thead th {\n",
       "        text-align: right;\n",
       "    }\n",
       "</style>\n",
       "<table border=\"1\" class=\"dataframe\">\n",
       "  <thead>\n",
       "    <tr style=\"text-align: right;\">\n",
       "      <th></th>\n",
       "      <th>id</th>\n",
       "      <th>raw_grade</th>\n",
       "    </tr>\n",
       "  </thead>\n",
       "  <tbody>\n",
       "    <tr>\n",
       "      <th>0</th>\n",
       "      <td>1</td>\n",
       "      <td>a</td>\n",
       "    </tr>\n",
       "    <tr>\n",
       "      <th>1</th>\n",
       "      <td>2</td>\n",
       "      <td>b</td>\n",
       "    </tr>\n",
       "    <tr>\n",
       "      <th>2</th>\n",
       "      <td>3</td>\n",
       "      <td>b</td>\n",
       "    </tr>\n",
       "    <tr>\n",
       "      <th>3</th>\n",
       "      <td>4</td>\n",
       "      <td>a</td>\n",
       "    </tr>\n",
       "    <tr>\n",
       "      <th>4</th>\n",
       "      <td>5</td>\n",
       "      <td>a</td>\n",
       "    </tr>\n",
       "    <tr>\n",
       "      <th>5</th>\n",
       "      <td>6</td>\n",
       "      <td>e</td>\n",
       "    </tr>\n",
       "  </tbody>\n",
       "</table>\n",
       "</div>"
      ],
      "text/plain": [
       "   id raw_grade\n",
       "0   1         a\n",
       "1   2         b\n",
       "2   3         b\n",
       "3   4         a\n",
       "4   5         a\n",
       "5   6         e"
      ]
     },
     "execution_count": 128,
     "metadata": {},
     "output_type": "execute_result"
    }
   ],
   "source": [
    "# 범주형 data로 변환하기\n",
    "df_category = pd.DataFrame({\"id\":[1,2,3,4,5,6], \"raw_grade\":['a', 'b', 'b', 'a', 'a', 'e']})\n",
    "df_category"
   ]
  },
  {
   "cell_type": "code",
   "execution_count": 129,
   "metadata": {},
   "outputs": [],
   "source": [
    "# df_category.info()  # dataset 확인\n",
    "\n",
    "# 카테고리형으로 변환\n",
    "df_category['grade'] = df_category['raw_grade'].astype('category')"
   ]
  },
  {
   "cell_type": "code",
   "execution_count": 130,
   "metadata": {
    "scrolled": false
   },
   "outputs": [
    {
     "data": {
      "text/html": [
       "<div>\n",
       "<style scoped>\n",
       "    .dataframe tbody tr th:only-of-type {\n",
       "        vertical-align: middle;\n",
       "    }\n",
       "\n",
       "    .dataframe tbody tr th {\n",
       "        vertical-align: top;\n",
       "    }\n",
       "\n",
       "    .dataframe thead th {\n",
       "        text-align: right;\n",
       "    }\n",
       "</style>\n",
       "<table border=\"1\" class=\"dataframe\">\n",
       "  <thead>\n",
       "    <tr style=\"text-align: right;\">\n",
       "      <th></th>\n",
       "      <th>id</th>\n",
       "      <th>raw_grade</th>\n",
       "      <th>grade</th>\n",
       "    </tr>\n",
       "  </thead>\n",
       "  <tbody>\n",
       "    <tr>\n",
       "      <th>0</th>\n",
       "      <td>1</td>\n",
       "      <td>a</td>\n",
       "      <td>very good</td>\n",
       "    </tr>\n",
       "    <tr>\n",
       "      <th>1</th>\n",
       "      <td>2</td>\n",
       "      <td>b</td>\n",
       "      <td>good</td>\n",
       "    </tr>\n",
       "    <tr>\n",
       "      <th>2</th>\n",
       "      <td>3</td>\n",
       "      <td>b</td>\n",
       "      <td>good</td>\n",
       "    </tr>\n",
       "    <tr>\n",
       "      <th>3</th>\n",
       "      <td>4</td>\n",
       "      <td>a</td>\n",
       "      <td>very good</td>\n",
       "    </tr>\n",
       "    <tr>\n",
       "      <th>4</th>\n",
       "      <td>5</td>\n",
       "      <td>a</td>\n",
       "      <td>very good</td>\n",
       "    </tr>\n",
       "    <tr>\n",
       "      <th>5</th>\n",
       "      <td>6</td>\n",
       "      <td>e</td>\n",
       "      <td>very bad</td>\n",
       "    </tr>\n",
       "  </tbody>\n",
       "</table>\n",
       "</div>"
      ],
      "text/plain": [
       "   id raw_grade      grade\n",
       "0   1         a  very good\n",
       "1   2         b       good\n",
       "2   3         b       good\n",
       "3   4         a  very good\n",
       "4   5         a  very good\n",
       "5   6         e   very bad"
      ]
     },
     "execution_count": 130,
     "metadata": {},
     "output_type": "execute_result"
    }
   ],
   "source": [
    "## 카테고리 이름 변경\n",
    "# Series.cat.categories\n",
    "df_category['grade'].cat.categories = [\"very good\", \"good\", \"very bad\"]\n",
    "\n",
    "df_category"
   ]
  },
  {
   "cell_type": "markdown",
   "metadata": {},
   "source": [
    "<br><br>\n",
    "### 7. 컬럼 항목별 갯수 \n",
    "<br><br>"
   ]
  },
  {
   "cell_type": "code",
   "execution_count": 132,
   "metadata": {
    "scrolled": false
   },
   "outputs": [
    {
     "data": {
      "text/plain": [
       "grade\n",
       "very good    3\n",
       "good         2\n",
       "very bad     1\n",
       "dtype: int64"
      ]
     },
     "execution_count": 132,
     "metadata": {},
     "output_type": "execute_result"
    }
   ],
   "source": [
    "df_category.groupby(df_category['grade']).size()\n",
    "\n",
    "# diamonds['cut'].value_counts()"
   ]
  },
  {
   "cell_type": "markdown",
   "metadata": {},
   "source": [
    "<br><br>\n",
    "### 8. 자료형 변환\n",
    "<br><br>"
   ]
  },
  {
   "cell_type": "code",
   "execution_count": null,
   "metadata": {},
   "outputs": [],
   "source": [
    "# Object to float\n",
    "# pd.to_numeric(df_1['avg'], errors='coerce')"
   ]
  },
  {
   "cell_type": "markdown",
   "metadata": {},
   "source": [
    "<br><br>\n",
    "### 9. 조건에 따라 값 변경하기 => np.where\n",
    "<br><br>"
   ]
  },
  {
   "cell_type": "code",
   "execution_count": null,
   "metadata": {},
   "outputs": [],
   "source": [
    "# a = numpy.where( 조건문, true일 경우 변경 값, false일 경우 변경 값 )"
   ]
  },
  {
   "cell_type": "markdown",
   "metadata": {},
   "source": [
    "<br><br>\n",
    "### 10. 컬럼별 데이터 조건 추출 \n",
    "<br><br>"
   ]
  },
  {
   "cell_type": "code",
   "execution_count": null,
   "metadata": {},
   "outputs": [],
   "source": [
    "# print(df[df['E'].isin(['two', 'four'])]) # 'E'열에서 'two', 'four'을 가지고 있는 행 출력"
   ]
  },
  {
   "cell_type": "markdown",
   "metadata": {},
   "source": [
    "<br><br>\n",
    "### 11. len VS count\n",
    "<br><br>"
   ]
  },
  {
   "cell_type": "code",
   "execution_count": 2,
   "metadata": {},
   "outputs": [],
   "source": [
    "# len의 경우 컬럼의 행 갯수 (nan값 포함)\n",
    "# len(df.type_of_business)\n",
    "\n",
    "\n",
    "# count의 경우 nan값을 제외한 행 갯수를 알려줌\n",
    "# df['type_of_business'].count()"
   ]
  },
  {
   "cell_type": "markdown",
   "metadata": {},
   "source": [
    "<br><br>\n",
    "### colum명이 첫번째 데이터로 들어가있는 경우\n",
    "<br><br> "
   ]
  },
  {
   "cell_type": "code",
   "execution_count": 2,
   "metadata": {},
   "outputs": [],
   "source": [
    "# df = pd.read_csv('./data/pima-indians-diabetes.csv', names=['pregnant','plasma','pressure','thickness',\n",
    "#                                                                'insulin','BMI','pedigree','age','diabetes'])\n",
    "\n",
    "# 이런식으로 데이터 불러옴과 동시에 column 이름 지정해주어서 해결가능"
   ]
  },
  {
   "cell_type": "markdown",
   "metadata": {},
   "source": [
    "<br><br>\n",
    "### agg 사용 컬럼별 함수적용\n",
    "<br><br>"
   ]
  },
  {
   "cell_type": "code",
   "execution_count": null,
   "metadata": {},
   "outputs": [],
   "source": [
    "\"\"\"\n",
    "    groupby().agg()\n",
    "\n",
    "    DataFrame의 groupby()는 SQL의 group by 보다 유연성이 떨어질 수 밖에 없다\n",
    "    그래도 DataFrame의 groupby()에서 여러 개의 컬럼에 각각 다른 집계 함수를 사용할 때 agg() 함수 이용\n",
    "\"\"\"\n",
    "\n",
    "#  선실등급별 가장 많은 나이값, 평균요금 구하고자 한다면??\n",
    "agg_format = {'Age':'max', 'SibSp':'sum', 'Fare':'mean'} # Age 컬럼에 max함수 , SibSp 컬럼에 sum함수 Fare 컬럼에 mean 함수적용하요 groupby\n",
    "\n",
    "titanic.groupby('Pclass').agg(agg_format)"
   ]
  },
  {
   "cell_type": "markdown",
   "metadata": {},
   "source": [
    "<br><br>\n",
    "### agg 사용 시각화\n",
    "<br><br>"
   ]
  },
  {
   "cell_type": "code",
   "execution_count": null,
   "metadata": {},
   "outputs": [],
   "source": [
    "# 차종별, 노선별별 그룹화 작업\n",
    "# tmp2 = df.groupby([df['차종'],df['선별']])['총이용인원'].count() \n",
    "# tmp2\n",
    "# tmp2.plot(kind='bar',figsize=(12, 5),title=\"노선,차종별 총 이용인원\")\n",
    "\n",
    "## 위의 경우 이상하게 나옴\n",
    "\n",
    "agg_format = {'총이용인원':\"sum\", \"이용율\" : \"mean\"} # 컬럼별 함수를 다르게 지정하여 # 컬럼별 비율이 다른 경우가 많음(%,수 등등)\n",
    "\n",
    "tmp2 = df.groupby(df['선별'])[['총이용인원','이용율']].agg(agg_format) # 적용\n",
    "tmp2\n",
    "tmp2.plot(kind='bar',figsize=(12, 5),title=\"노선별 정보\",y=[\"총이용인원\",\"이용율\"],subplots=True) # subplots=True => y에 따른 그래프 각 각 생성 "
   ]
  },
  {
   "cell_type": "markdown",
   "metadata": {},
   "source": [
    "<br><br>\n",
    "### 불필요한 행 제거하고 불러오기\n",
    "<br><br>"
   ]
  },
  {
   "cell_type": "code",
   "execution_count": null,
   "metadata": {},
   "outputs": [],
   "source": [
    "# nmaes 지정해서 불러오는 경우 기존에 있던 컬럼명이 row로 들어가버리는 경우 발생\n",
    "# 불필요한 행 제외하고 로딩하기\n",
    "# df1 = pd.read_csv(\"result/temp.csv\", names=['번호','시도','구군','인구수','넓이'],skiprows=[0],index_col='번호') # skiprows[0] 사용하여 해결"
   ]
  },
  {
   "cell_type": "markdown",
   "metadata": {},
   "source": [
    "<br><br>\n",
    "### Json파일 불러오기\n",
    "<br><br>"
   ]
  },
  {
   "cell_type": "code",
   "execution_count": null,
   "metadata": {},
   "outputs": [],
   "source": [
    "# JSON 파일 읽어오기\n",
    "import json\n",
    "\n",
    "df4 = json.load(open('data/JsonData.json'))\n",
    "df4"
   ]
  },
  {
   "cell_type": "markdown",
   "metadata": {},
   "source": [
    "<br><br>\n",
    "### 데이타가 많은 경우 NaN 확인하는 방법 - missngno\n",
    "<br>\n",
    "\n",
    "https://github.com/ResidentMario/missingno\n",
    "\n",
    "라이브러리 설치 (Anaconda Prompt 관리자 권한으로 실행)\n",
    " - > conda install missingno (안됨)\n",
    " - > pip install missingno (됨)\n",
    "\n",
    "Jupyter에서 바로 실행\n",
    " - > !pip install missingno"
   ]
  },
  {
   "cell_type": "markdown",
   "metadata": {},
   "source": [
    "<br><br>\n",
    "### 컬럼 DateTime형식으로 변경하기\n",
    "<br><br>"
   ]
  },
  {
   "cell_type": "code",
   "execution_count": null,
   "metadata": {},
   "outputs": [],
   "source": [
    "# datetime 오브젝트로 변경하여 필요한 데이타 추출 및 계산 - 2\n",
    "\n",
    "ebola['Date'] = pd.to_datetime(ebola['Date'])\n",
    "ebola.head()"
   ]
  },
  {
   "cell_type": "markdown",
   "metadata": {},
   "source": [
    "<br><br>\n",
    "### [양적자료를 질적자료로 새로 생성 ]\n",
    "<br><br>"
   ]
  },
  {
   "cell_type": "code",
   "execution_count": 1,
   "metadata": {},
   "outputs": [],
   "source": [
    "# pd.cut 함수사용하여 양적자료를 범주형자료로 ( 조건을 지정 가능)\n",
    "\n",
    "# bins에 의해서 구간 나눠서 라벨링\n",
    "# diamonds['gprice'] = pd.cut(diamonds['price'],bins=[0,5000,10000,20000], labels=['5000','10000','15000','20000'])"
   ]
  },
  {
   "cell_type": "markdown",
   "metadata": {},
   "source": [
    "<br><br>\n",
    "\n",
    "### 최대 출력 수 늘리기\n",
    "\n",
    "<br><br>"
   ]
  },
  {
   "cell_type": "code",
   "execution_count": 2,
   "metadata": {},
   "outputs": [],
   "source": [
    "# import pandas as pd\n",
    "\n",
    "# # 판다스 데이터프레임(DataFrame)을 출력할 때, 최대 출력할 수 있는 컬럼을 100개로 늘려줍니다.\n",
    "# # 이렇게 해야 데이터를 분석할 때 출력해서 확인하기 편합니다.\n",
    "# pd.options.display.max_columns = 100"
   ]
  },
  {
   "cell_type": "markdown",
   "metadata": {},
   "source": [
    "<br><br>\n",
    "\n",
    "### enumerate\n",
    "\n",
    "<br><br>"
   ]
  },
  {
   "cell_type": "code",
   "execution_count": 1,
   "metadata": {},
   "outputs": [],
   "source": [
    "# for idx,answer in enumerate(label):\n",
    "#     p = pre[idx]\n",
    "#     if p == answer: ok+=1\n",
    "#     total +=1\n",
    "\n",
    "# enumerate 사용 시 idx에 index를 반환하는 동시에 answer에 인자의 값(여기서는 label)을 순서대로 반환 \n",
    "# 즉, 인자와 인자의 index를 동시에 사용가능"
   ]
  },
  {
   "cell_type": "markdown",
   "metadata": {},
   "source": [
    "<br><br>\n",
    "\n",
    "### index 바꾸기\n",
    "\n",
    "<br><br>"
   ]
  },
  {
   "cell_type": "code",
   "execution_count": 1,
   "metadata": {},
   "outputs": [],
   "source": [
    "# df = df.set_index('')"
   ]
  },
  {
   "cell_type": "markdown",
   "metadata": {},
   "source": [
    "<br><br>\n",
    "### 결측값 채우기\n",
    "<br><br>"
   ]
  },
  {
   "cell_type": "markdown",
   "metadata": {},
   "source": [
    "* https://rfriend.tistory.com/264"
   ]
  }
 ],
 "metadata": {
  "kernelspec": {
   "display_name": "Python 3",
   "language": "python",
   "name": "python3"
  },
  "language_info": {
   "codemirror_mode": {
    "name": "ipython",
    "version": 3
   },
   "file_extension": ".py",
   "mimetype": "text/x-python",
   "name": "python",
   "nbconvert_exporter": "python",
   "pygments_lexer": "ipython3",
   "version": "3.7.4"
  }
 },
 "nbformat": 4,
 "nbformat_minor": 2
}
