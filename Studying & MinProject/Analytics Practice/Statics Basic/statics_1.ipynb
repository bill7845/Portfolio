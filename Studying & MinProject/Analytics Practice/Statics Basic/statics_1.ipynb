{
 "cells": [
  {
   "cell_type": "markdown",
   "metadata": {},
   "source": [
    "# 통계 기본 \n",
    "#### EDA를 위한 pandas"
   ]
  },
  {
   "cell_type": "code",
   "execution_count": 1,
   "metadata": {},
   "outputs": [],
   "source": [
    "import pandas as pd\n",
    "import matplotlib.pyplot as plt\n",
    "%matplotlib inline\n",
    "from scipy.stats import tmean, scoreatpercentile\n",
    "import seaborn as sns\n",
    "import os\n",
    "import numpy as np\n",
    "plt.style.use('fivethirtyeight')\n",
    "import warnings\n",
    "warnings.filterwarnings('ignore')"
   ]
  },
  {
   "cell_type": "code",
   "execution_count": 2,
   "metadata": {},
   "outputs": [],
   "source": [
    "df_1 = pd.read_csv('Pre_Season_Batter.csv')"
   ]
  },
  {
   "cell_type": "code",
   "execution_count": 3,
   "metadata": {
    "scrolled": true
   },
   "outputs": [
    {
     "data": {
      "text/html": [
       "<div>\n",
       "<style scoped>\n",
       "    .dataframe tbody tr th:only-of-type {\n",
       "        vertical-align: middle;\n",
       "    }\n",
       "\n",
       "    .dataframe tbody tr th {\n",
       "        vertical-align: top;\n",
       "    }\n",
       "\n",
       "    .dataframe thead th {\n",
       "        text-align: right;\n",
       "    }\n",
       "</style>\n",
       "<table border=\"1\" class=\"dataframe\">\n",
       "  <thead>\n",
       "    <tr style=\"text-align: right;\">\n",
       "      <th></th>\n",
       "      <th>batter_id</th>\n",
       "      <th>batter_name</th>\n",
       "      <th>year</th>\n",
       "      <th>team</th>\n",
       "      <th>avg</th>\n",
       "      <th>G</th>\n",
       "      <th>AB</th>\n",
       "      <th>R</th>\n",
       "      <th>H</th>\n",
       "      <th>2B</th>\n",
       "      <th>...</th>\n",
       "      <th>GDP</th>\n",
       "      <th>SLG</th>\n",
       "      <th>OBP</th>\n",
       "      <th>E</th>\n",
       "      <th>height/weight</th>\n",
       "      <th>year_born</th>\n",
       "      <th>position</th>\n",
       "      <th>career</th>\n",
       "      <th>starting_salary</th>\n",
       "      <th>OPS</th>\n",
       "    </tr>\n",
       "  </thead>\n",
       "  <tbody>\n",
       "    <tr>\n",
       "      <th>0</th>\n",
       "      <td>0</td>\n",
       "      <td>가르시아</td>\n",
       "      <td>2018</td>\n",
       "      <td>LG</td>\n",
       "      <td>0.350</td>\n",
       "      <td>7</td>\n",
       "      <td>20</td>\n",
       "      <td>1</td>\n",
       "      <td>7</td>\n",
       "      <td>1</td>\n",
       "      <td>...</td>\n",
       "      <td>1</td>\n",
       "      <td>0.550</td>\n",
       "      <td>0.409</td>\n",
       "      <td>1</td>\n",
       "      <td>177cm/93kg</td>\n",
       "      <td>1985년 04월 12일</td>\n",
       "      <td>내야수(우투우타)</td>\n",
       "      <td>쿠바 Ciego de Avila Maximo Gomez Baez(대)</td>\n",
       "      <td>NaN</td>\n",
       "      <td>0.959</td>\n",
       "    </tr>\n",
       "    <tr>\n",
       "      <th>1</th>\n",
       "      <td>1</td>\n",
       "      <td>강경학</td>\n",
       "      <td>2011</td>\n",
       "      <td>한화</td>\n",
       "      <td>0.000</td>\n",
       "      <td>4</td>\n",
       "      <td>2</td>\n",
       "      <td>2</td>\n",
       "      <td>0</td>\n",
       "      <td>0</td>\n",
       "      <td>...</td>\n",
       "      <td>0</td>\n",
       "      <td>0.000</td>\n",
       "      <td>0.500</td>\n",
       "      <td>0</td>\n",
       "      <td>180cm/72kg</td>\n",
       "      <td>1992년 08월 11일</td>\n",
       "      <td>내야수(우투좌타)</td>\n",
       "      <td>광주대성초-광주동성중-광주동성고</td>\n",
       "      <td>10000만원</td>\n",
       "      <td>0.500</td>\n",
       "    </tr>\n",
       "    <tr>\n",
       "      <th>2</th>\n",
       "      <td>1</td>\n",
       "      <td>강경학</td>\n",
       "      <td>2014</td>\n",
       "      <td>한화</td>\n",
       "      <td>-</td>\n",
       "      <td>4</td>\n",
       "      <td>0</td>\n",
       "      <td>2</td>\n",
       "      <td>0</td>\n",
       "      <td>0</td>\n",
       "      <td>...</td>\n",
       "      <td>0</td>\n",
       "      <td>NaN</td>\n",
       "      <td>NaN</td>\n",
       "      <td>0</td>\n",
       "      <td>180cm/72kg</td>\n",
       "      <td>1992년 08월 11일</td>\n",
       "      <td>내야수(우투좌타)</td>\n",
       "      <td>광주대성초-광주동성중-광주동성고</td>\n",
       "      <td>10000만원</td>\n",
       "      <td>NaN</td>\n",
       "    </tr>\n",
       "    <tr>\n",
       "      <th>3</th>\n",
       "      <td>1</td>\n",
       "      <td>강경학</td>\n",
       "      <td>2015</td>\n",
       "      <td>한화</td>\n",
       "      <td>0.130</td>\n",
       "      <td>10</td>\n",
       "      <td>23</td>\n",
       "      <td>3</td>\n",
       "      <td>3</td>\n",
       "      <td>0</td>\n",
       "      <td>...</td>\n",
       "      <td>0</td>\n",
       "      <td>0.130</td>\n",
       "      <td>0.286</td>\n",
       "      <td>2</td>\n",
       "      <td>180cm/72kg</td>\n",
       "      <td>1992년 08월 11일</td>\n",
       "      <td>내야수(우투좌타)</td>\n",
       "      <td>광주대성초-광주동성중-광주동성고</td>\n",
       "      <td>10000만원</td>\n",
       "      <td>0.416</td>\n",
       "    </tr>\n",
       "    <tr>\n",
       "      <th>4</th>\n",
       "      <td>1</td>\n",
       "      <td>강경학</td>\n",
       "      <td>2016</td>\n",
       "      <td>한화</td>\n",
       "      <td>0.188</td>\n",
       "      <td>14</td>\n",
       "      <td>32</td>\n",
       "      <td>4</td>\n",
       "      <td>6</td>\n",
       "      <td>1</td>\n",
       "      <td>...</td>\n",
       "      <td>0</td>\n",
       "      <td>0.281</td>\n",
       "      <td>0.212</td>\n",
       "      <td>0</td>\n",
       "      <td>180cm/72kg</td>\n",
       "      <td>1992년 08월 11일</td>\n",
       "      <td>내야수(우투좌타)</td>\n",
       "      <td>광주대성초-광주동성중-광주동성고</td>\n",
       "      <td>10000만원</td>\n",
       "      <td>0.493</td>\n",
       "    </tr>\n",
       "  </tbody>\n",
       "</table>\n",
       "<p>5 rows × 29 columns</p>\n",
       "</div>"
      ],
      "text/plain": [
       "   batter_id batter_name  year team    avg   G  AB  R  H  2B  ...    GDP  \\\n",
       "0          0        가르시아  2018   LG  0.350   7  20  1  7   1  ...      1   \n",
       "1          1         강경학  2011   한화  0.000   4   2  2  0   0  ...      0   \n",
       "2          1         강경학  2014   한화      -   4   0  2  0   0  ...      0   \n",
       "3          1         강경학  2015   한화  0.130  10  23  3  3   0  ...      0   \n",
       "4          1         강경학  2016   한화  0.188  14  32  4  6   1  ...      0   \n",
       "\n",
       "     SLG    OBP  E  height/weight      year_born   position  \\\n",
       "0  0.550  0.409  1     177cm/93kg  1985년 04월 12일  내야수(우투우타)   \n",
       "1  0.000  0.500  0     180cm/72kg  1992년 08월 11일  내야수(우투좌타)   \n",
       "2    NaN    NaN  0     180cm/72kg  1992년 08월 11일  내야수(우투좌타)   \n",
       "3  0.130  0.286  2     180cm/72kg  1992년 08월 11일  내야수(우투좌타)   \n",
       "4  0.281  0.212  0     180cm/72kg  1992년 08월 11일  내야수(우투좌타)   \n",
       "\n",
       "                                   career  starting_salary    OPS  \n",
       "0  쿠바 Ciego de Avila Maximo Gomez Baez(대)              NaN  0.959  \n",
       "1                       광주대성초-광주동성중-광주동성고          10000만원  0.500  \n",
       "2                       광주대성초-광주동성중-광주동성고          10000만원    NaN  \n",
       "3                       광주대성초-광주동성중-광주동성고          10000만원  0.416  \n",
       "4                       광주대성초-광주동성중-광주동성고          10000만원  0.493  \n",
       "\n",
       "[5 rows x 29 columns]"
      ]
     },
     "execution_count": 3,
     "metadata": {},
     "output_type": "execute_result"
    }
   ],
   "source": [
    "# df_1\n",
    "df_1.head(5)"
   ]
  },
  {
   "cell_type": "markdown",
   "metadata": {},
   "source": [
    "<br>\n",
    "##  데이터 명세 \n",
    "<br> \n",
    "* batter_id  : 타자의 고유 아이디 <br>\n",
    "* batter_name :  타자 이름 <br>\n",
    "* year : 년도 <br>\n",
    "* team : 소속팀 <br>\n",
    "* avg : 타율 <br>\n",
    "* G : 출전게임수 <br>\n",
    "* AB : 타수(타석-볼넷-사구-희생번트-희생플라이) <br>\n",
    "* R : 득점 <br>\n",
    "* H : 안타(1,2,3,홈런) <br>\n",
    "* 2B ,3B, HR : 2루타,3루타,홈런 <br>\n",
    "* TB : 루타 수 <br>\n",
    "* RBI : 타점 <br>\n",
    "* SB : 도루성공 <br>\n",
    "* CS : 도루실패 <br>\n",
    "* BB : 볼넷 <br>\n",
    "* HBP : 사구(몸에 맞는 볼) <br>\n",
    "* SO : 삼진아웃 <br>\n",
    "* GDP : 병살타 <br>\n",
    "* SLG : 장타율 <br>\n",
    "* OBP : 출루율 <br>\n",
    "* E : 에러 <br>\n",
    "* height/weight : 키/몸무게 <br>\n",
    "* year_born : 생년월일 <br>\n",
    "* position : 수비위치 <br>\n",
    "* career : 선수 커리어 <br>\n",
    "* starting_salary : 입단연봉 <br>\n",
    "* OPS : (OBP + SLG ) <br>"
   ]
  },
  {
   "cell_type": "markdown",
   "metadata": {},
   "source": [
    "<br>\n",
    "## 데이터 탐색\n",
    "<br>"
   ]
  },
  {
   "cell_type": "markdown",
   "metadata": {},
   "source": [
    "__feature(열) ,  record(행)으로 이루어진 2차원 테이블 형태__"
   ]
  },
  {
   "cell_type": "markdown",
   "metadata": {},
   "source": [
    "<br>\n",
    "### 1. 위치추정\n",
    "<br>\n",
    "\n",
    "> 각 feature(변수)의 대푯값(typical value)을 구하기 <br>\n",
    "> \"대부분의 값이 어디에 위치하는가 <b>중심경향성</b>을 나타내는 측정지표"
   ]
  },
  {
   "cell_type": "markdown",
   "metadata": {},
   "source": [
    "<br>\n",
    "#### 1.1 평균(mean)과 절사평균(trimmed mean)\n",
    "<br>\n",
    "> \"평균\"은 전체값의 총합을 전체개수로 나눈 값이다. \"절사평균\"은 값들을 크기 순으로 정렬한 후 양끝에서 일정 개수의 값을 제거한 뒤 <br>\n",
    "남은 값들을 가지고 평균을 구하는 방식이다. 따라서 \"절사평균\"은 극단값의 영향을 제거할 수 있는 방법이다. <br>"
   ]
  },
  {
   "cell_type": "code",
   "execution_count": 24,
   "metadata": {},
   "outputs": [
    {
     "data": {
      "text/plain": [
       "19.201722900215362"
      ]
     },
     "execution_count": 24,
     "metadata": {},
     "output_type": "execute_result"
    }
   ],
   "source": [
    "#  일반적인 평균값 구하기\n",
    "df_1['AB'].mean()"
   ]
  },
  {
   "cell_type": "code",
   "execution_count": 28,
   "metadata": {},
   "outputs": [],
   "source": [
    "# 절사평균을 구하기 위한 함수만들기\n",
    "# 단, 이 함수의 경우 최대,최소값들의 중복여부를 고려하지 않음\n",
    "def trim_mean(arr, percent):\n",
    "    lower_limit = scoreatpercentile(arr, percent)\n",
    "    upper_limit = scoreatpercentile(arr, 100-percent)\n",
    "    return tmean(arr, limits=(lower_limit, upper_limit), inclusive=(False, False))\n",
    "\n",
    "my_result = trim_mean(df_1['AB'].values,10)"
   ]
  },
  {
   "cell_type": "code",
   "execution_count": 21,
   "metadata": {},
   "outputs": [
    {
     "data": {
      "text/plain": [
       "18.27420814479638"
      ]
     },
     "execution_count": 21,
     "metadata": {},
     "output_type": "execute_result"
    }
   ],
   "source": [
    "my_result"
   ]
  },
  {
   "cell_type": "markdown",
   "metadata": {},
   "source": [
    "<br> \n",
    "#### 1.2 가중평균(weighted average)\n",
    "<br>\n",
    "> 각 데이터값에 가중치(w)를 곱해준 후 평균을 구하는 방법 <br>\n",
    "> 데이터를 크기순으로 정렬 후 가중치 부여<br>\n",
    "* 어떤 값들이 본래 다른 값들에 비해 큰 변화량을 갖는다면 해당 관측값에 더 작은 가중치를 줄 수 있다.<br>\n",
    "* 항상 정확히 비교가능한 관측값이 얻어지지 않으므로, 관측치가 더 적은 데이터에 가중치를주는 방법\n",
    "<br>\n",
    "> 평균 외에 '중간값'(=데이터를 일렬로 정렬했을때 한가운데에 위치하는 값)을 활용할 수 있다. <br>\n",
    "> 중간값 또한 가중중간값을 가지며, <b>특잇값에 로버스트하다.</b>"
   ]
  },
  {
   "cell_type": "code",
   "execution_count": 18,
   "metadata": {},
   "outputs": [
    {
     "data": {
      "text/plain": [
       "grp_col\n",
       "a    4.0\n",
       "b    9.0\n",
       "dtype: float64"
      ]
     },
     "execution_count": 18,
     "metadata": {},
     "output_type": "execute_result"
    }
   ],
   "source": [
    "# Groupby 활용 가중평균 구하기\n",
    "# df_2 = pd.DataFrame({'grp_col' : ['a', 'a', 'a', 'a', 'a', 'b', 'b', 'b', 'b', 'b'], \n",
    "#                         'val' : np.arange(10)+1,'weight' : [0.0, 0.1, 0.2, 0.3, 0.4, 0.0, 0.1, 0.2, 0.3, 0.4]})\n",
    "\n",
    "# 가중평균 함수 만들기\n",
    "weighted_avg_func = lambda x : np.average(x['val'], weights=x['weight'])\n",
    "\n",
    "grouped = df_2.groupby('grp_col')\n",
    "grouped.apply(weighted_avg_func)\n",
    "\n",
    "\n",
    "#  비교\n",
    "# df2_avg = df_2.groupby('grp_col').mean()\n",
    "# df2_avg \n",
    "\n",
    "# 함수지정 없이 lambda만 사용\n",
    "# grouped.apply(lambda x:np.average(x['val'],weights=x['weight']))"
   ]
  },
  {
   "cell_type": "markdown",
   "metadata": {},
   "source": [
    "<br>\n",
    "* **예제** \n",
    "<br>\n",
    "#### 인구에 따른 살인비율의 위치추정\n"
   ]
  },
  {
   "cell_type": "code",
   "execution_count": 3,
   "metadata": {},
   "outputs": [],
   "source": [
    "state = pd.read_csv('state.csv')"
   ]
  },
  {
   "cell_type": "code",
   "execution_count": 26,
   "metadata": {},
   "outputs": [
    {
     "data": {
      "text/plain": [
       "6162876.3"
      ]
     },
     "execution_count": 26,
     "metadata": {},
     "output_type": "execute_result"
    }
   ],
   "source": [
    "#인구평균\n",
    "state_mean = state['Population'].mean()\n",
    "state_mean"
   ]
  },
  {
   "cell_type": "code",
   "execution_count": 30,
   "metadata": {},
   "outputs": [
    {
     "data": {
      "text/plain": [
       "4783697.125"
      ]
     },
     "execution_count": 30,
     "metadata": {},
     "output_type": "execute_result"
    }
   ],
   "source": [
    "#절사평균 (trimmed => 0.1)\n",
    "\n",
    "state_trimmedAvg = trim_mean(state['Population'].values,10)\n",
    "state_trimmedAvg"
   ]
  },
  {
   "cell_type": "code",
   "execution_count": 33,
   "metadata": {},
   "outputs": [
    {
     "data": {
      "text/plain": [
       "4436369.5"
      ]
     },
     "execution_count": 33,
     "metadata": {},
     "output_type": "execute_result"
    }
   ],
   "source": [
    "#중간값\n",
    "state_median = state['Population'].median()\n",
    "state_median"
   ]
  },
  {
   "cell_type": "code",
   "execution_count": 29,
   "metadata": {},
   "outputs": [
    {
     "data": {
      "text/plain": [
       "State\n",
       "Alabama       5.7\n",
       "Alaska        5.6\n",
       "Arizona       4.7\n",
       "Arkansas      5.6\n",
       "California    4.4\n",
       "dtype: float64"
      ]
     },
     "execution_count": 29,
     "metadata": {},
     "output_type": "execute_result"
    }
   ],
   "source": [
    "# 가중평균\n",
    "grouped_state = state.groupby('State')\n",
    "\n",
    "state_weightAvg = grouped_state.apply(lambda x : np.average(x['Murder.Rate'],weights=x['Population']))\n",
    "state_weightAvg.head(5)"
   ]
  },
  {
   "cell_type": "markdown",
   "metadata": {},
   "source": [
    "<br>\n",
    "## 2. 변이 추정\n",
    "<br>\n",
    "\n",
    "> 'variability' <br>\n",
    ">  데이터값이 얼마나 밀집 혹은 퍼져 있는지를 나타내는 산포도(dispersion)  <br>\n",
    "\n",
    "<br>\n",
    "\n",
    "* **편차(deviation)**\n",
    "* **분산(variance)**\n",
    "* **표준편차(standard deviation)**\n",
    "* **범위(range)**\n",
    "* **순서통계량(order statistics)**\n",
    "* **백분위수**\n",
    "* **사분위수**"
   ]
  },
  {
   "cell_type": "markdown",
   "metadata": {},
   "source": [
    "<br>\n",
    "#### 2.1 표준편차\n",
    "<br>\n",
    "\n",
    "> 관측 데이터와 위치 추정값 사이의 차이 => '편차' <br>\n",
    "> 데이터가 중앙값을 주변으로 얼마나 퍼져 있는가 <br>\n",
    "> 편차의 절대값의 평균(음의 편차 고려) => 평균절대편차 <br>\n",
    "> 분산(제곱편차의 평균) 표준편차(분산의 제곱근)\n",
    "<br><br> \n",
    "\n",
    "* **분산,표준편차,평균절대편차 모두 특잇값에 로버스트하지 않다** \n",
    "* **분산,표준편차는 제곱 편차를 사용하기 때문에 특잇값에 민감**"
   ]
  },
  {
   "cell_type": "code",
   "execution_count": 6,
   "metadata": {},
   "outputs": [
    {
     "data": {
      "text/plain": [
       "0.244"
      ]
     },
     "execution_count": 6,
     "metadata": {},
     "output_type": "execute_result"
    }
   ],
   "source": [
    "# Object to float\n",
    "pd.to_numeric(df_1['avg'], errors='coerce')\n",
    "df_1['avg_float'] = pd.to_numeric(df_1['avg'],errors='coerce')\n",
    "\n",
    "# 전체 avg 평균 반올림하여 출력\n",
    "round(df_1['avg_float'].mean(), 3)"
   ]
  },
  {
   "cell_type": "code",
   "execution_count": 87,
   "metadata": {},
   "outputs": [
    {
     "name": "stdout",
     "output_type": "stream",
     "text": [
      "0.01973033147296696\n"
     ]
    }
   ],
   "source": [
    "# avg 표준편차\n",
    "# axis = 0 => 열기준 , default\n",
    "# print(df_1['avg_float'].std(axis=0))\n",
    "\n",
    "# avg 분산\n",
    "# print(df_1['avg_float'].var(axis=0))"
   ]
  },
  {
   "cell_type": "markdown",
   "metadata": {},
   "source": [
    "<br>\n",
    "#### 2.1 MAD\n",
    "<br>\n",
    "\n",
    "> 중위절대편차 , Median Absolute Deviation <br>\n",
    "> 로버스트한 추정법 <br>\n",
    "1. 표본데이터에서 중위수를 구한다 (x1,x2,x3,... => m)\n",
    "2. 각 데이터에서 중위수를 뺀다( (x1-m),(x2-m),(x3-m),...) \n",
    "3. 2번의 각 결과들을 절대값으로 바꾼 후 중위값을 구한다"
   ]
  },
  {
   "cell_type": "code",
   "execution_count": 24,
   "metadata": {
    "scrolled": true
   },
   "outputs": [
    {
     "data": {
      "text/plain": [
       "3849876.1459979336"
      ]
     },
     "execution_count": 24,
     "metadata": {},
     "output_type": "execute_result"
    }
   ],
   "source": [
    "# 패키지 불러오기\n",
    "# MAD \n",
    "from statsmodels import robust\n",
    "\n",
    "robust.mad(state['Population'], axis=0)\n"
   ]
  },
  {
   "cell_type": "markdown",
   "metadata": {},
   "source": [
    "<br>\n",
    "#### 2.3 백분위수 추정\n",
    "<br>\n",
    "\n",
    "> 정렬된(순위) 데이터가 얼마나 퍼져있는지를 보는것 <br>\n",
    "> 순서통계량 <br>\n",
    "> 가장 큰값과 작은값의 차이를 나타내는 범위에 기준 단, 범위는 특잇값에 매우 민감하기때문에 변위측정에 불리하다 <br>\n",
    "<br> \n",
    "> 로버스트한 순서통계량 변위추정을 위해 범위의 양끝에서 값들을 지운 후 추정 => 백분위수 <br>\n",
    "> **IQR(사분위범위)** => 25번째 백분위수와 75번째 백분위수의 차이를 보는것"
   ]
  },
  {
   "cell_type": "markdown",
   "metadata": {},
   "source": [
    "<br>\n",
    "* **예제**\n",
    "<br>\n",
    "#### 주별 인구의 변위 추정"
   ]
  },
  {
   "cell_type": "code",
   "execution_count": 39,
   "metadata": {},
   "outputs": [
    {
     "name": "stdout",
     "output_type": "stream",
     "text": [
      "6848235.347401142\n",
      "4847308.0\n",
      "3849876.1459979336\n"
     ]
    }
   ],
   "source": [
    "# 주별 Group\n",
    "grouped_state\n",
    "\n",
    "# 표준편차 추정\n",
    "print(state['Population'].std(axis=0))\n",
    "\n",
    "# 사분위범위(IQR) 추정\n",
    "## 사분위수 구하기 => .quantile()\n",
    "Q1 = state['Population'].quantile(0.25)\n",
    "Q3 = state['Population'].quantile(0.75)\n",
    "IQR = Q3 - Q1\n",
    "print(IQR)\n",
    "\n",
    "# MAD(중위절대편차) 추정\n",
    "print(robust.mad(state['Population'],axis=0))\n",
    "\n",
    "## 표준편차과 중위절대편차의 차이가 2배가까이 난다. 즉, 표준편차는 로버스트하지 않다."
   ]
  },
  {
   "cell_type": "markdown",
   "metadata": {},
   "source": [
    "<br>\n",
    "## 3. 데이터 분포\n",
    "<br>"
   ]
  },
  {
   "cell_type": "markdown",
   "metadata": {},
   "source": [
    "#### 3.1 백분위수 boxplot"
   ]
  },
  {
   "cell_type": "code",
   "execution_count": 51,
   "metadata": {
    "scrolled": true
   },
   "outputs": [
    {
     "data": {
      "text/plain": [
       "0.05      689529.00\n",
       "0.25     1833004.25\n",
       "0.50     4436369.50\n",
       "0.75     6680312.25\n",
       "0.95    19118545.60\n",
       "Name: Population, dtype: float64"
      ]
     },
     "execution_count": 51,
     "metadata": {},
     "output_type": "execute_result"
    }
   ],
   "source": [
    "state['Population'].quantile([0.05,0.25,0.5,0.75,0.95])"
   ]
  },
  {
   "cell_type": "code",
   "execution_count": 63,
   "metadata": {},
   "outputs": [
    {
     "data": {
      "image/png": "[encoded data removed]",
      "text/plain": [
       "<Figure size 432x288 with 1 Axes>"
      ]
     },
     "metadata": {},
     "output_type": "display_data"
    }
   ],
   "source": [
    "state.boxplot(column=['Population'])\n",
    "plt.show()"
   ]
  },
  {
   "cell_type": "markdown",
   "metadata": {},
   "source": [
    "<br>\n",
    "#### 3.2 도수분포표 히스토그램\n",
    "<br>\n",
    "\n",
    "> 도수분포표 => 변수의 범위를 동일한 크기의 구간으로 나눈 후, 구간마다 몇개의 변수값이 존재하는가를 나타냄 <br> \n",
    "> 비어있는 구간을 살펴보거나, 구간의 크기를 바꿔보며 유용한 정보를 찾아 낼 수 있음 <br>\n",
    "> 도수분포표 시각화 => 히스토그램 <br>\n",
    "> 히스토그램의 막대사이에 빈공간이 있다는것은 해당구간에 값이 존재하지않는다는것이며 이는 중요한 정보를 나타낼수도 있다"
   ]
  },
  {
   "cell_type": "code",
   "execution_count": 5,
   "metadata": {
    "scrolled": true
   },
   "outputs": [
    {
     "name": "stdout",
     "output_type": "stream",
     "text": [
      "[1 0 0 ... 0 0 1]\n",
      "[  563626.   563636.   563646. ... 37253936. 37253946. 37253956.]\n"
     ]
    }
   ],
   "source": [
    "#주별 인구 도수분포표\n",
    "\n",
    "# 도수,구분 = np.histogram(data,도수분포구간)\n",
    "# 도수 : 도수분포표의 각 구간 data 수 \n",
    "# 구분 : 도수분포 구간\n",
    "\n",
    "# 구간범위 정하기\n",
    "bins = int((state['Population'].max() - state['Population'].min()) /10) # (범위최대값 - 범위최소값) / 10 (10개구간으로 나누고자 할경우)\n",
    "\n",
    "# 도수분포 구하기\n",
    "hist,bins = np.histogram(state.groupby('Abbreviation')['Population'].sum(),bins)  # hist = 도수, bins = 구분\n",
    "print(hist)\n",
    "print(bins)\n",
    "\n",
    "# 히스토그램 그리기\n",
    "# ???\n",
    "# plt.hist(state.groupby('Abbreviation')['Population'].sum(),bins)\n"
   ]
  },
  {
   "cell_type": "code",
   "execution_count": 7,
   "metadata": {},
   "outputs": [
    {
     "data": {
      "text/html": [
       "<div>\n",
       "<style scoped>\n",
       "    .dataframe tbody tr th:only-of-type {\n",
       "        vertical-align: middle;\n",
       "    }\n",
       "\n",
       "    .dataframe tbody tr th {\n",
       "        vertical-align: top;\n",
       "    }\n",
       "\n",
       "    .dataframe thead th {\n",
       "        text-align: right;\n",
       "    }\n",
       "</style>\n",
       "<table border=\"1\" class=\"dataframe\">\n",
       "  <thead>\n",
       "    <tr style=\"text-align: right;\">\n",
       "      <th></th>\n",
       "      <th>country</th>\n",
       "      <th>year</th>\n",
       "      <th>pop</th>\n",
       "      <th>continent</th>\n",
       "      <th>lifeExp</th>\n",
       "      <th>gdpPercap</th>\n",
       "    </tr>\n",
       "  </thead>\n",
       "  <tbody>\n",
       "    <tr>\n",
       "      <th>0</th>\n",
       "      <td>Afghanistan</td>\n",
       "      <td>1952</td>\n",
       "      <td>8425333.0</td>\n",
       "      <td>Asia</td>\n",
       "      <td>28.801</td>\n",
       "      <td>779.445314</td>\n",
       "    </tr>\n",
       "    <tr>\n",
       "      <th>1</th>\n",
       "      <td>Afghanistan</td>\n",
       "      <td>1957</td>\n",
       "      <td>9240934.0</td>\n",
       "      <td>Asia</td>\n",
       "      <td>30.332</td>\n",
       "      <td>820.853030</td>\n",
       "    </tr>\n",
       "    <tr>\n",
       "      <th>2</th>\n",
       "      <td>Afghanistan</td>\n",
       "      <td>1962</td>\n",
       "      <td>10267083.0</td>\n",
       "      <td>Asia</td>\n",
       "      <td>31.997</td>\n",
       "      <td>853.100710</td>\n",
       "    </tr>\n",
       "    <tr>\n",
       "      <th>3</th>\n",
       "      <td>Afghanistan</td>\n",
       "      <td>1967</td>\n",
       "      <td>11537966.0</td>\n",
       "      <td>Asia</td>\n",
       "      <td>34.020</td>\n",
       "      <td>836.197138</td>\n",
       "    </tr>\n",
       "    <tr>\n",
       "      <th>4</th>\n",
       "      <td>Afghanistan</td>\n",
       "      <td>1972</td>\n",
       "      <td>13079460.0</td>\n",
       "      <td>Asia</td>\n",
       "      <td>36.088</td>\n",
       "      <td>739.981106</td>\n",
       "    </tr>\n",
       "  </tbody>\n",
       "</table>\n",
       "</div>"
      ],
      "text/plain": [
       "       country  year         pop continent  lifeExp   gdpPercap\n",
       "0  Afghanistan  1952   8425333.0      Asia   28.801  779.445314\n",
       "1  Afghanistan  1957   9240934.0      Asia   30.332  820.853030\n",
       "2  Afghanistan  1962  10267083.0      Asia   31.997  853.100710\n",
       "3  Afghanistan  1967  11537966.0      Asia   34.020  836.197138\n",
       "4  Afghanistan  1972  13079460.0      Asia   36.088  739.981106"
      ]
     },
     "execution_count": 7,
     "metadata": {},
     "output_type": "execute_result"
    }
   ],
   "source": [
    "data_url = 'http://bit.ly/2cLzoxH'  # 외부 데이터 가져오기\n",
    "his_data = pd.read_csv(data_url)\n",
    "his_data.head(5)"
   ]
  },
  {
   "cell_type": "code",
   "execution_count": 14,
   "metadata": {},
   "outputs": [
    {
     "data": {
      "text/plain": [
       "(Text(0.5,0,'lifeExp'), Text(0,0.5,'frequency'))"
      ]
     },
     "execution_count": 14,
     "metadata": {},
     "output_type": "execute_result"
    },
    {
     "data": {
      "image/png": "[encoded data removed]",
      "text/plain": [
       "<Figure size 432x288 with 1 Axes>"
      ]
     },
     "metadata": {},
     "output_type": "display_data"
    }
   ],
   "source": [
    "his_data['lifeExp'].hist(bins=100,histtype='bar',rwidth=0.9)\n",
    "plt.xlabel('lifeExp'),plt.ylabel('frequency')"
   ]
  },
  {
   "cell_type": "markdown",
   "metadata": {},
   "source": [
    "<br>\n",
    "#### 3.3 이진 데이터와 범주형 데이터 \n",
    "<br>\n",
    "\n",
    "> 범주형 데이터에서는 비율,퍼센트를 활용한다 <br>\n",
    "\n",
    "* 최빈값\n",
    "<br>\n",
    "* **기댓값** <br>\n",
    " => 어떠한 목적(상업적)을 위해 하나의 '기댓값'을 도출해 낼 수 있다 <br>\n",
    " => 기댓값은 가중평균과 같은 꼴이다 <br>\n",
    " => 어떤값과 그 값이 일어날 확률을 서로 곱해 더한 값을 의미한다 : EV=(0.05)(300) +(0.15)(50)+(0.8)(0) = 22.5"
   ]
  },
  {
   "cell_type": "code",
   "execution_count": 34,
   "metadata": {},
   "outputs": [
    {
     "data": {
      "text/plain": [
       "<matplotlib.axes._subplots.AxesSubplot at 0x2aca573f320>"
      ]
     },
     "execution_count": 34,
     "metadata": {},
     "output_type": "execute_result"
    },
    {
     "data": {
      "image/png": "[encoded data removed]",
      "text/plain": [
       "<Figure size 432x288 with 1 Axes>"
      ]
     },
     "metadata": {},
     "output_type": "display_data"
    }
   ],
   "source": [
    "## 범주형 데이터로 변환\n",
    "# df_1['position'].astype('category')\n",
    "\n",
    "## 카테고리별 갯수를 counting 해준 뒤 시각화\n",
    "df_1.groupby('position')['position'].count().plot(kind='bar')"
   ]
  },
  {
   "cell_type": "code",
   "execution_count": 58,
   "metadata": {
    "scrolled": true
   },
   "outputs": [
    {
     "data": {
      "text/plain": [
       "<matplotlib.axes._subplots.AxesSubplot at 0x2aca5895b70>"
      ]
     },
     "execution_count": 58,
     "metadata": {},
     "output_type": "execute_result"
    },
    {
     "data": {
      "image/png": "[encoded data removed]",
      "text/plain": [
       "<Figure size 432x288 with 1 Axes>"
      ]
     },
     "metadata": {},
     "output_type": "display_data"
    }
   ],
   "source": [
    "df_1.groupby('position')['position'].count().plot(kind='pie')"
   ]
  },
  {
   "cell_type": "markdown",
   "metadata": {},
   "source": [
    "<br>\n",
    "#### 3.4 상관계수\n",
    "<br>\n",
    "\n",
    "> 예측값과 목표값과의 상관계수 <br>\n",
    "> 변수간의 한 변수의 변화에 따른 변수의 변화 정도와 방향을 예측하는 분석기법 <br>\n",
    "> <b> 변수간의 인과관계를 나타내는 것이 아니며 변수간의 관련성을 파악하기 위한 용도로 사용 </b> <br> \n",
    "> 상관계수는 -1 ~ 1 사이의 값을 가지며, 연속형데이터에 대해서 적용한다 \n"
   ]
  },
  {
   "cell_type": "code",
   "execution_count": 5,
   "metadata": {},
   "outputs": [
    {
     "data": {
      "text/html": [
       "<div>\n",
       "<style scoped>\n",
       "    .dataframe tbody tr th:only-of-type {\n",
       "        vertical-align: middle;\n",
       "    }\n",
       "\n",
       "    .dataframe tbody tr th {\n",
       "        vertical-align: top;\n",
       "    }\n",
       "\n",
       "    .dataframe thead th {\n",
       "        text-align: right;\n",
       "    }\n",
       "</style>\n",
       "<table border=\"1\" class=\"dataframe\">\n",
       "  <thead>\n",
       "    <tr style=\"text-align: right;\">\n",
       "      <th></th>\n",
       "      <th>Population</th>\n",
       "      <th>Murder.Rate</th>\n",
       "    </tr>\n",
       "  </thead>\n",
       "  <tbody>\n",
       "    <tr>\n",
       "      <th>Population</th>\n",
       "      <td>1.000000</td>\n",
       "      <td>0.182069</td>\n",
       "    </tr>\n",
       "    <tr>\n",
       "      <th>Murder.Rate</th>\n",
       "      <td>0.182069</td>\n",
       "      <td>1.000000</td>\n",
       "    </tr>\n",
       "  </tbody>\n",
       "</table>\n",
       "</div>"
      ],
      "text/plain": [
       "             Population  Murder.Rate\n",
       "Population     1.000000     0.182069\n",
       "Murder.Rate    0.182069     1.000000"
      ]
     },
     "execution_count": 5,
     "metadata": {},
     "output_type": "execute_result"
    }
   ],
   "source": [
    "## 연속형 변수 추출\n",
    "state_cor = state[['Population','Murder.Rate']]\n",
    "\n",
    "## 인구수와 살인비율의 상관계수\n",
    "state_cor.corr()"
   ]
  },
  {
   "cell_type": "code",
   "execution_count": 6,
   "metadata": {},
   "outputs": [
    {
     "data": {
      "text/plain": [
       "0.1820693429486802"
      ]
     },
     "execution_count": 6,
     "metadata": {},
     "output_type": "execute_result"
    }
   ],
   "source": [
    "## 방법2\n",
    "state['Population'].corr(state['Murder.Rate'])"
   ]
  },
  {
   "cell_type": "code",
   "execution_count": 7,
   "metadata": {},
   "outputs": [
    {
     "data": {
      "text/html": [
       "<div>\n",
       "<style scoped>\n",
       "    .dataframe tbody tr th:only-of-type {\n",
       "        vertical-align: middle;\n",
       "    }\n",
       "\n",
       "    .dataframe tbody tr th {\n",
       "        vertical-align: top;\n",
       "    }\n",
       "\n",
       "    .dataframe thead th {\n",
       "        text-align: right;\n",
       "    }\n",
       "</style>\n",
       "<table border=\"1\" class=\"dataframe\">\n",
       "  <thead>\n",
       "    <tr style=\"text-align: right;\">\n",
       "      <th></th>\n",
       "      <th>year</th>\n",
       "      <th>G</th>\n",
       "      <th>AB</th>\n",
       "      <th>R</th>\n",
       "      <th>H</th>\n",
       "      <th>2B</th>\n",
       "      <th>3B</th>\n",
       "      <th>HR</th>\n",
       "      <th>TB</th>\n",
       "      <th>RBI</th>\n",
       "      <th>SB</th>\n",
       "      <th>CS</th>\n",
       "      <th>BB</th>\n",
       "      <th>HBP</th>\n",
       "      <th>SO</th>\n",
       "      <th>GDP</th>\n",
       "    </tr>\n",
       "  </thead>\n",
       "  <tbody>\n",
       "    <tr>\n",
       "      <th>year</th>\n",
       "      <td>1.000000</td>\n",
       "      <td>-0.052724</td>\n",
       "      <td>-0.124997</td>\n",
       "      <td>-0.037957</td>\n",
       "      <td>-0.061322</td>\n",
       "      <td>-0.071173</td>\n",
       "      <td>0.033396</td>\n",
       "      <td>-0.030596</td>\n",
       "      <td>-0.059349</td>\n",
       "      <td>-0.038890</td>\n",
       "      <td>-0.094197</td>\n",
       "      <td>-0.021085</td>\n",
       "      <td>-0.055295</td>\n",
       "      <td>-0.046607</td>\n",
       "      <td>-0.096983</td>\n",
       "      <td>-0.066485</td>\n",
       "    </tr>\n",
       "    <tr>\n",
       "      <th>G</th>\n",
       "      <td>-0.052724</td>\n",
       "      <td>1.000000</td>\n",
       "      <td>0.740827</td>\n",
       "      <td>0.681357</td>\n",
       "      <td>0.637177</td>\n",
       "      <td>0.380824</td>\n",
       "      <td>0.256658</td>\n",
       "      <td>0.209911</td>\n",
       "      <td>0.584077</td>\n",
       "      <td>0.460391</td>\n",
       "      <td>0.333558</td>\n",
       "      <td>0.223256</td>\n",
       "      <td>0.419496</td>\n",
       "      <td>0.201577</td>\n",
       "      <td>0.599578</td>\n",
       "      <td>0.258046</td>\n",
       "    </tr>\n",
       "    <tr>\n",
       "      <th>AB</th>\n",
       "      <td>-0.124997</td>\n",
       "      <td>0.740827</td>\n",
       "      <td>1.000000</td>\n",
       "      <td>0.747165</td>\n",
       "      <td>0.890546</td>\n",
       "      <td>0.589264</td>\n",
       "      <td>0.286405</td>\n",
       "      <td>0.374816</td>\n",
       "      <td>0.846330</td>\n",
       "      <td>0.664648</td>\n",
       "      <td>0.362959</td>\n",
       "      <td>0.240986</td>\n",
       "      <td>0.569244</td>\n",
       "      <td>0.216046</td>\n",
       "      <td>0.735374</td>\n",
       "      <td>0.386200</td>\n",
       "    </tr>\n",
       "    <tr>\n",
       "      <th>R</th>\n",
       "      <td>-0.037957</td>\n",
       "      <td>0.681357</td>\n",
       "      <td>0.747165</td>\n",
       "      <td>1.000000</td>\n",
       "      <td>0.783290</td>\n",
       "      <td>0.513408</td>\n",
       "      <td>0.282079</td>\n",
       "      <td>0.451541</td>\n",
       "      <td>0.788865</td>\n",
       "      <td>0.608705</td>\n",
       "      <td>0.443408</td>\n",
       "      <td>0.224133</td>\n",
       "      <td>0.534037</td>\n",
       "      <td>0.214750</td>\n",
       "      <td>0.523556</td>\n",
       "      <td>0.229514</td>\n",
       "    </tr>\n",
       "    <tr>\n",
       "      <th>H</th>\n",
       "      <td>-0.061322</td>\n",
       "      <td>0.637177</td>\n",
       "      <td>0.890546</td>\n",
       "      <td>0.783290</td>\n",
       "      <td>1.000000</td>\n",
       "      <td>0.660301</td>\n",
       "      <td>0.285611</td>\n",
       "      <td>0.417939</td>\n",
       "      <td>0.944901</td>\n",
       "      <td>0.719841</td>\n",
       "      <td>0.358165</td>\n",
       "      <td>0.234635</td>\n",
       "      <td>0.509061</td>\n",
       "      <td>0.184500</td>\n",
       "      <td>0.559126</td>\n",
       "      <td>0.329099</td>\n",
       "    </tr>\n",
       "  </tbody>\n",
       "</table>\n",
       "</div>"
      ],
      "text/plain": [
       "          year         G        AB         R         H        2B        3B  \\\n",
       "year  1.000000 -0.052724 -0.124997 -0.037957 -0.061322 -0.071173  0.033396   \n",
       "G    -0.052724  1.000000  0.740827  0.681357  0.637177  0.380824  0.256658   \n",
       "AB   -0.124997  0.740827  1.000000  0.747165  0.890546  0.589264  0.286405   \n",
       "R    -0.037957  0.681357  0.747165  1.000000  0.783290  0.513408  0.282079   \n",
       "H    -0.061322  0.637177  0.890546  0.783290  1.000000  0.660301  0.285611   \n",
       "\n",
       "            HR        TB       RBI        SB        CS        BB       HBP  \\\n",
       "year -0.030596 -0.059349 -0.038890 -0.094197 -0.021085 -0.055295 -0.046607   \n",
       "G     0.209911  0.584077  0.460391  0.333558  0.223256  0.419496  0.201577   \n",
       "AB    0.374816  0.846330  0.664648  0.362959  0.240986  0.569244  0.216046   \n",
       "R     0.451541  0.788865  0.608705  0.443408  0.224133  0.534037  0.214750   \n",
       "H     0.417939  0.944901  0.719841  0.358165  0.234635  0.509061  0.184500   \n",
       "\n",
       "            SO       GDP  \n",
       "year -0.096983 -0.066485  \n",
       "G     0.599578  0.258046  \n",
       "AB    0.735374  0.386200  \n",
       "R     0.523556  0.229514  \n",
       "H     0.559126  0.329099  "
      ]
     },
     "execution_count": 7,
     "metadata": {},
     "output_type": "execute_result"
    }
   ],
   "source": [
    "## 야구 데이터 상관계수 분석\n",
    "df_1_corr = df_1[['year','G','AB','R','H','2B','3B','HR','TB','RBI','SB','CS','BB','HBP','SO','GDP']]\n",
    "\n",
    "## 상관계수 행렬\n",
    "df_1_matrix = df_1_corr.corr().head(5)\n",
    "df_1_matrix.head(5)"
   ]
  },
  {
   "cell_type": "code",
   "execution_count": 11,
   "metadata": {
    "scrolled": true
   },
   "outputs": [
    {
     "data": {
      "text/plain": [
       "batter_id   -0.067036\n",
       "year         0.051496\n",
       "G            0.058661\n",
       "AB           0.148324\n",
       "R            0.301075\n",
       "H            0.397155\n",
       "2B           0.307295\n",
       "3B           0.117101\n",
       "HR           0.394804\n",
       "TB           0.464214\n",
       "RBI          0.378170\n",
       "SB           0.063304\n",
       "CS           0.042884\n",
       "BB           0.201346\n",
       "HBP          0.079176\n",
       "SO           0.015086\n",
       "GDP          0.042631\n",
       "SLG          0.961944\n",
       "OBP          0.865307\n",
       "E            0.014341\n",
       "OPS          1.000000\n",
       "dtype: float64"
      ]
     },
     "execution_count": 11,
     "metadata": {},
     "output_type": "execute_result"
    }
   ],
   "source": [
    "## 하나의 변수와 나머지 변수와의 상관관계 분석\n",
    "df_1.corrwith(df_1['OPS'])"
   ]
  },
  {
   "cell_type": "code",
   "execution_count": 19,
   "metadata": {},
   "outputs": [
    {
     "data": {
      "text/plain": [
       "<matplotlib.axes._subplots.AxesSubplot at 0x1a41961eda0>"
      ]
     },
     "execution_count": 19,
     "metadata": {},
     "output_type": "execute_result"
    },
    {
     "data": {
      "image/png": "[encoded data removed]",
      "text/plain": [
       "<Figure size 432x288 with 1 Axes>"
      ]
     },
     "metadata": {},
     "output_type": "display_data"
    }
   ],
   "source": [
    "from pandas.plotting import scatter_matrix\n",
    " \n",
    "## 산점도 전체 보기\n",
    "# attributes = [\"OPS\", \"HBP\", \"SLG\", \"OBP\"]\n",
    "# scatter_matrix(df_1[attributes], figsize=(12, 8))\n",
    "\n",
    "## 특정 산점도 확대\n",
    "df_1.plot(kind=\"scatter\", x=\"HBP\", y=\"TB\", alpha=0.1)"
   ]
  },
  {
   "cell_type": "code",
   "execution_count": 21,
   "metadata": {},
   "outputs": [
    {
     "data": {
      "image/png": "[encoded data removed]",
      "text/plain": [
       "<Figure size 360x360 with 6 Axes>"
      ]
     },
     "metadata": {},
     "output_type": "display_data"
    }
   ],
   "source": [
    "# scatterplot matrix with histogram only for continuous variables\n",
    "# seaborn 활용 산점도\n",
    "sns.pairplot(state, diag_kind='hist')  # 대각선 그림은 히스토그램으로\n",
    "\n",
    "plt.show()"
   ]
  },
  {
   "cell_type": "markdown",
   "metadata": {},
   "source": [
    "<br>\n",
    "## 4. 두 개 이상의 변수 탐색\n",
    "<br>\n",
    "\n",
    ">일변량 분석 : 평균,분산 <br> \n",
    ">이변량 분석 : 상관분석 <br> \n",
    ">다변량 분석"
   ]
  },
  {
   "cell_type": "markdown",
   "metadata": {},
   "source": [
    "## <br>\n",
    "#### 4.1 육각형 구간과 등고선\n",
    "<br>\n",
    "\n",
    "> 수치형 변수 대 수치형 변수를 시각화 <br>\n",
    "> 산점도의 경우 레코드가 수십,수백만에 이를 경우 데이터가 너무 밀집되어 알아보기 어렵다"
   ]
  },
  {
   "cell_type": "code",
   "execution_count": 119,
   "metadata": {
    "scrolled": false
   },
   "outputs": [
    {
     "data": {
      "text/html": [
       "<div>\n",
       "<style scoped>\n",
       "    .dataframe tbody tr th:only-of-type {\n",
       "        vertical-align: middle;\n",
       "    }\n",
       "\n",
       "    .dataframe tbody tr th {\n",
       "        vertical-align: top;\n",
       "    }\n",
       "\n",
       "    .dataframe thead th {\n",
       "        text-align: right;\n",
       "    }\n",
       "</style>\n",
       "<table border=\"1\" class=\"dataframe\">\n",
       "  <thead>\n",
       "    <tr style=\"text-align: right;\">\n",
       "      <th></th>\n",
       "      <th>TaxAssessedValue</th>\n",
       "      <th>SqFtTotLiving</th>\n",
       "    </tr>\n",
       "  </thead>\n",
       "  <tbody>\n",
       "    <tr>\n",
       "      <th>TaxAssessedValue</th>\n",
       "      <td>1.000000</td>\n",
       "      <td>0.541982</td>\n",
       "    </tr>\n",
       "    <tr>\n",
       "      <th>SqFtTotLiving</th>\n",
       "      <td>0.541982</td>\n",
       "      <td>1.000000</td>\n",
       "    </tr>\n",
       "  </tbody>\n",
       "</table>\n",
       "</div>"
      ],
      "text/plain": [
       "                  TaxAssessedValue  SqFtTotLiving\n",
       "TaxAssessedValue          1.000000       0.541982\n",
       "SqFtTotLiving             0.541982       1.000000"
      ]
     },
     "execution_count": 119,
     "metadata": {},
     "output_type": "execute_result"
    }
   ],
   "source": [
    "kc_tax = pd.read_csv(\"kc_tax.csv\")\n",
    "\n",
    "\n",
    "# ## 특잇값 제거\n",
    "kc_tax['TaxAssessedValue'] = kc_tax[kc_tax.TaxAssessedValue < 750000]\n",
    "kc_tax['SqFtTotLiving']=kc_tax['SqFtTotLiving'][kc_tax['SqFtTotLiving'] >100]  ## 이 코드로 해야함. 아래코드랑 무슨차이????\n",
    "# kc_tax['SqFtTotLiving'] = kc_tax[(kc_tax.SqFtTotLiving > 100) & (kc_tax.SqFtTotLiving<3500)]\n",
    "\n",
    "kc_tax_hexbin = kc_tax[['TaxAssessedValue','SqFtTotLiving']]\n",
    "kc_tax_hexbin.corr()"
   ]
  },
  {
   "cell_type": "code",
   "execution_count": 5,
   "metadata": {},
   "outputs": [
    {
     "data": {
      "image/png": "[encoded data removed]",
      "text/plain": [
       "<Figure size 432x288 with 2 Axes>"
      ]
     },
     "metadata": {},
     "output_type": "display_data"
    }
   ],
   "source": [
    "ax = kc_tax_hexbin.plot.hexbin(x='SqFtTotLiving', y='TaxAssessedValue', gridsize=20)"
   ]
  },
  {
   "cell_type": "markdown",
   "metadata": {},
   "source": [
    "<br>\n",
    "#### 4.2 분할표\n",
    "<br>\n",
    "\n",
    "> 범주형데이터 대 범주형데이터 비교 <br>\n",
    "> 교차표(cross table) 이용"
   ]
  },
  {
   "cell_type": "code",
   "execution_count": 8,
   "metadata": {},
   "outputs": [],
   "source": [
    "lc_loans = pd.read_csv('lc_loans.csv')\n",
    "\n",
    "## ['grade'] 값을 조건에 맞게 category형으로 치환\n",
    "def grade_category(lc_loans) :\n",
    "    if  lc_loans['grade'] >= 7 :\n",
    "        return 'A'\n",
    "    elif lc_loans['grade'] >= 6 :\n",
    "        return 'B'\n",
    "    elif lc_loans['grade'] >= 5 :\n",
    "        return 'C'\n",
    "    elif lc_loans['grade'] >= 4 :\n",
    "        return 'D'\n",
    "    elif lc_loans['grade'] >= 3 :\n",
    "        return 'E'\n",
    "    elif lc_loans['grade'] >= 2 :\n",
    "        return 'F'\n",
    "    else :\n",
    "        return 'G'\n"
   ]
  },
  {
   "cell_type": "code",
   "execution_count": 9,
   "metadata": {},
   "outputs": [],
   "source": [
    "## 함수적용\n",
    "lc_loans['grade'] = lc_loans.apply(grade_category, axis=1)"
   ]
  },
  {
   "cell_type": "code",
   "execution_count": 14,
   "metadata": {
    "scrolled": true
   },
   "outputs": [],
   "source": [
    "## grade 기준 crosstab 생성\n",
    "loans_crosstab = pd.crosstab(lc_loans.grade,lc_loans.status, margins=True)"
   ]
  },
  {
   "cell_type": "code",
   "execution_count": 15,
   "metadata": {},
   "outputs": [
    {
     "data": {
      "text/html": [
       "<div>\n",
       "<style scoped>\n",
       "    .dataframe tbody tr th:only-of-type {\n",
       "        vertical-align: middle;\n",
       "    }\n",
       "\n",
       "    .dataframe tbody tr th {\n",
       "        vertical-align: top;\n",
       "    }\n",
       "\n",
       "    .dataframe thead th {\n",
       "        text-align: right;\n",
       "    }\n",
       "</style>\n",
       "<table border=\"1\" class=\"dataframe\">\n",
       "  <thead>\n",
       "    <tr style=\"text-align: right;\">\n",
       "      <th>status</th>\n",
       "      <th>Charged Off</th>\n",
       "      <th>Current</th>\n",
       "      <th>Fully Paid</th>\n",
       "      <th>Late</th>\n",
       "      <th>All</th>\n",
       "    </tr>\n",
       "    <tr>\n",
       "      <th>grade</th>\n",
       "      <th></th>\n",
       "      <th></th>\n",
       "      <th></th>\n",
       "      <th></th>\n",
       "      <th></th>\n",
       "    </tr>\n",
       "  </thead>\n",
       "  <tbody>\n",
       "    <tr>\n",
       "      <th>A</th>\n",
       "      <td>549</td>\n",
       "      <td>14864</td>\n",
       "      <td>5362</td>\n",
       "      <td>184</td>\n",
       "      <td>20959</td>\n",
       "    </tr>\n",
       "    <tr>\n",
       "      <th>B</th>\n",
       "      <td>2178</td>\n",
       "      <td>52311</td>\n",
       "      <td>20647</td>\n",
       "      <td>741</td>\n",
       "      <td>75877</td>\n",
       "    </tr>\n",
       "    <tr>\n",
       "      <th>C</th>\n",
       "      <td>5263</td>\n",
       "      <td>92603</td>\n",
       "      <td>29376</td>\n",
       "      <td>2171</td>\n",
       "      <td>129413</td>\n",
       "    </tr>\n",
       "    <tr>\n",
       "      <th>D</th>\n",
       "      <td>5720</td>\n",
       "      <td>80967</td>\n",
       "      <td>21390</td>\n",
       "      <td>2619</td>\n",
       "      <td>110696</td>\n",
       "    </tr>\n",
       "    <tr>\n",
       "      <th>E</th>\n",
       "      <td>4651</td>\n",
       "      <td>48730</td>\n",
       "      <td>12478</td>\n",
       "      <td>2162</td>\n",
       "      <td>68021</td>\n",
       "    </tr>\n",
       "    <tr>\n",
       "      <th>F</th>\n",
       "      <td>2599</td>\n",
       "      <td>22190</td>\n",
       "      <td>5363</td>\n",
       "      <td>1187</td>\n",
       "      <td>31339</td>\n",
       "    </tr>\n",
       "    <tr>\n",
       "      <th>G</th>\n",
       "      <td>1711</td>\n",
       "      <td>9520</td>\n",
       "      <td>2700</td>\n",
       "      <td>725</td>\n",
       "      <td>14656</td>\n",
       "    </tr>\n",
       "    <tr>\n",
       "      <th>All</th>\n",
       "      <td>22671</td>\n",
       "      <td>321185</td>\n",
       "      <td>97316</td>\n",
       "      <td>9789</td>\n",
       "      <td>450961</td>\n",
       "    </tr>\n",
       "  </tbody>\n",
       "</table>\n",
       "</div>"
      ],
      "text/plain": [
       "status  Charged Off  Current  Fully Paid  Late     All\n",
       "grade                                                 \n",
       "A               549    14864        5362   184   20959\n",
       "B              2178    52311       20647   741   75877\n",
       "C              5263    92603       29376  2171  129413\n",
       "D              5720    80967       21390  2619  110696\n",
       "E              4651    48730       12478  2162   68021\n",
       "F              2599    22190        5363  1187   31339\n",
       "G              1711     9520        2700   725   14656\n",
       "All           22671   321185       97316  9789  450961"
      ]
     },
     "execution_count": 15,
     "metadata": {},
     "output_type": "execute_result"
    }
   ],
   "source": [
    "loans_crosstab"
   ]
  },
  {
   "cell_type": "code",
   "execution_count": 20,
   "metadata": {},
   "outputs": [
    {
     "data": {
      "text/plain": [
       "<matplotlib.axes._subplots.AxesSubplot at 0x2b3bafb5e80>"
      ]
     },
     "execution_count": 20,
     "metadata": {},
     "output_type": "execute_result"
    },
    {
     "data": {
      "image/png": "[encoded data removed]",
      "text/plain": [
       "<Figure size 432x288 with 1 Axes>"
      ]
     },
     "metadata": {},
     "output_type": "display_data"
    }
   ],
   "source": [
    "## 빈도수 시각화 1.\n",
    "loans_crosstab.loc['A',].plot(kind='bar')"
   ]
  },
  {
   "cell_type": "code",
   "execution_count": 23,
   "metadata": {},
   "outputs": [
    {
     "data": {
      "image/png": "[encoded data removed]",
      "text/plain": [
       "<Figure size 432x288 with 1 Axes>"
      ]
     },
     "metadata": {},
     "output_type": "display_data"
    }
   ],
   "source": [
    "## 빈도수 시각화 2. (내림차순)\n",
    "loans_crosstab2=loans_crosstab.loc['A',].sort_values().plot(kind='barh',title='A')"
   ]
  },
  {
   "cell_type": "markdown",
   "metadata": {},
   "source": [
    "<br>\n",
    "#### 4.3 범주형 변수 대 수치형 변수\n",
    "<br>\n",
    "\n",
    "> 범주형 변수에 따라 분리 된 수치형 변수의 분포를 살펴본다 <br> \n",
    "> boxplot , 바이올린 도표 활용 <br>"
   ]
  },
  {
   "cell_type": "code",
   "execution_count": null,
   "metadata": {},
   "outputs": [],
   "source": [
    "airline_delay = pd.read_csv('airline_stats.csv')"
   ]
  },
  {
   "cell_type": "markdown",
   "metadata": {},
   "source": [
    "### boxplot 실행 시 AttributeError: 'Series' object has no attribute 'boxplot' 에러가 뜨는 경우\n",
    "<br>"
   ]
  },
  {
   "cell_type": "code",
   "execution_count": 46,
   "metadata": {
    "scrolled": true
   },
   "outputs": [
    {
     "data": {
      "image/png": "[encoded data removed]",
      "text/plain": [
       "<Figure size 432x288 with 1 Axes>"
      ]
     },
     "metadata": {},
     "output_type": "display_data"
    }
   ],
   "source": [
    "## 항공기 사고에 따른 비행사별 항공 지연 비율\n",
    "## airline_delay['pct_atc_delay'].boxplot(by='airline')의 경우 series 에러 발생한다\n",
    "airline_delay.boxplot(column='pct_atc_delay' , by='airline')\n",
    "plt.title(\"각 Feature 값들의 빈도수에 대한 Box Plot\")\n",
    "plt.xlabel(\"Feature\")\n",
    "plt.ylabel(\"데이터 값\")\n",
    "plt.show()"
   ]
  },
  {
   "cell_type": "markdown",
   "metadata": {},
   "source": [
    "<br>\n",
    "#### 4.4 다변수 시각화 \n",
    "<br>\n",
    "\n",
    "> '조건화' 활용 <br>"
   ]
  },
  {
   "cell_type": "code",
   "execution_count": 121,
   "metadata": {},
   "outputs": [
    {
     "data": {
      "text/plain": [
       "ZipCode\n",
       "98105.0    6501\n",
       "98108.0    5606\n",
       "98126.0    5822\n",
       "98188.0    4109\n",
       "dtype: int64"
      ]
     },
     "execution_count": 121,
     "metadata": {},
     "output_type": "execute_result"
    }
   ],
   "source": [
    "kc_tax_selected.groupby('ZipCode').size()"
   ]
  },
  {
   "cell_type": "code",
   "execution_count": 123,
   "metadata": {},
   "outputs": [
    {
     "data": {
      "image/png": "[encoded data removed]",
      "text/plain": [
       "<Figure size 432x288 with 2 Axes>"
      ]
     },
     "metadata": {},
     "output_type": "display_data"
    },
    {
     "data": {
      "image/png": "[encoded data removed]",
      "text/plain": [
       "<Figure size 432x288 with 2 Axes>"
      ]
     },
     "metadata": {},
     "output_type": "display_data"
    },
    {
     "data": {
      "image/png": "[encoded data removed]",
      "text/plain": [
       "<Figure size 432x288 with 2 Axes>"
      ]
     },
     "metadata": {},
     "output_type": "display_data"
    },
    {
     "data": {
      "image/png": "[encoded data removed]",
      "text/plain": [
       "<Figure size 432x288 with 2 Axes>"
      ]
     },
     "metadata": {},
     "output_type": "display_data"
    },
    {
     "data": {
      "image/png": "[encoded data removed]",
      "text/plain": [
       "<Figure size 432x288 with 2 Axes>"
      ]
     },
     "metadata": {},
     "output_type": "display_data"
    }
   ],
   "source": [
    "kc_tax['ZipCode'].astype('category')\n",
    "\n",
    "## 특정 우편번호 추출\n",
    "## and or 연산자 사용할 시 &,| 으로 할것\n",
    "kc_tax_selected = kc_tax[(kc_tax.ZipCode== 98105) | (kc_tax.ZipCode == 98108) | (kc_tax.ZipCode == 98126) | (kc_tax.ZipCode == 98188)]\n",
    "\n",
    "selected_hexbin = kc_tax_selected.groupby('ZipCode').plot.hexbin(x='SqFtTotLiving', y='TaxAssessedValue', gridsize=20)\n",
    "\n",
    "## 특정 우편번호에 따른 평가액 비교 도식화\n",
    "## 왜 5개?... 도표별 라벨 달기\n"
   ]
  }
 ],
 "metadata": {
  "kernelspec": {
   "display_name": "Python 3",
   "language": "python",
   "name": "python3"
  },
  "language_info": {
   "codemirror_mode": {
    "name": "ipython",
    "version": 3
   },
   "file_extension": ".py",
   "mimetype": "text/x-python",
   "name": "python",
   "nbconvert_exporter": "python",
   "pygments_lexer": "ipython3",
   "version": "3.7.4"
  }
 },
 "nbformat": 4,
 "nbformat_minor": 2
}
