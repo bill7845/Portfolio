{
 "cells": [
  {
   "cell_type": "markdown",
   "metadata": {},
   "source": [
    "## 기술 통계와 모델링_1\n",
    "<br>\n",
    "<br>\n",
    "\n",
    "#### 와인 품질 데이터 분석\n",
    "\n",
    "> 참고 : 파이썬 데이터 분석입문 -클린턴 브라운리 지음, 한빛미디어 <br>\n",
    "> 데이터셋 : https://github.com/cbrownley/foundations-for-analytics-with-python -> winequality-both.csv <br>\n",
    "\n",
    "<br>\n",
    "\n",
    "* <b> DataSet 명세 </b> \n",
    "> 레드 와인과 화이트 와인으로 구성 (* 포르투칼산 '비뉴베르드' 포함) <br>\n",
    "> 레드와인은 1599개의 관측값(observation), 화이트 와인은 4,898개의 관측값 포함 <br>\n",
    "> 11개의 '입력변수'와 1개의 '출력변수'로 구성 <br>\n",
    "> 출력 변수 quality의 경우 변수로서 0점에서 10점(가장높은품질) 사이의 점수를 갖음 <br>\n",
    "> 입력변수는 결합산(고정산),휘발산,구연산,잔여설탕,염화물,이산화황(무수아황산),총이산화황,밀도,산성도,황산염,알코올 도수"
   ]
  },
  {
   "cell_type": "code",
   "execution_count": 2,
   "metadata": {},
   "outputs": [],
   "source": [
    "import pandas as pd\n",
    "import matplotlib.pyplot as plt\n",
    "%matplotlib inline\n",
    "from scipy.stats import tmean, scoreatpercentile\n",
    "import seaborn as sns\n",
    "import os\n",
    "import numpy as np\n",
    "plt.style.use('fivethirtyeight')\n",
    "import warnings\n",
    "warnings.filterwarnings('ignore')\n",
    "import scipy as sp\n",
    "import scipy.stats"
   ]
  },
  {
   "cell_type": "code",
   "execution_count": 3,
   "metadata": {},
   "outputs": [],
   "source": [
    "wine = pd.read_csv('C:/Users/KIHyuk/Documents/GitHub/Jupyter_Repo/Data/winequality-both.csv',sep=',',header=0) # 필드 구분기호(,), 열 헤더를 파일 첫행으로 지정"
   ]
  },
  {
   "cell_type": "code",
   "execution_count": 4,
   "metadata": {},
   "outputs": [],
   "source": [
    "wine.columns = wine.columns.str.replace(\" \",\"_\") ## 공백을 _ 로 변환하는거임 바꾸려는 문자열에 반드시 공백줘야함"
   ]
  },
  {
   "cell_type": "markdown",
   "metadata": {},
   "source": [
    "<br>\n",
    "* 변수별 요약통계 표시"
   ]
  },
  {
   "cell_type": "code",
   "execution_count": 5,
   "metadata": {
    "scrolled": false
   },
   "outputs": [
    {
     "data": {
      "text/html": [
       "<div>\n",
       "<style scoped>\n",
       "    .dataframe tbody tr th:only-of-type {\n",
       "        vertical-align: middle;\n",
       "    }\n",
       "\n",
       "    .dataframe tbody tr th {\n",
       "        vertical-align: top;\n",
       "    }\n",
       "\n",
       "    .dataframe thead th {\n",
       "        text-align: right;\n",
       "    }\n",
       "</style>\n",
       "<table border=\"1\" class=\"dataframe\">\n",
       "  <thead>\n",
       "    <tr style=\"text-align: right;\">\n",
       "      <th></th>\n",
       "      <th>fixed_acidity</th>\n",
       "      <th>volatile_acidity</th>\n",
       "      <th>citric_acid</th>\n",
       "      <th>residual_sugar</th>\n",
       "      <th>chlorides</th>\n",
       "      <th>free_sulfur_dioxide</th>\n",
       "      <th>total_sulfur_dioxide</th>\n",
       "      <th>density</th>\n",
       "      <th>pH</th>\n",
       "      <th>sulphates</th>\n",
       "      <th>alcohol</th>\n",
       "      <th>quality</th>\n",
       "    </tr>\n",
       "  </thead>\n",
       "  <tbody>\n",
       "    <tr>\n",
       "      <th>count</th>\n",
       "      <td>6497.000000</td>\n",
       "      <td>6497.000000</td>\n",
       "      <td>6497.000000</td>\n",
       "      <td>6497.000000</td>\n",
       "      <td>6497.000000</td>\n",
       "      <td>6497.000000</td>\n",
       "      <td>6497.000000</td>\n",
       "      <td>6497.000000</td>\n",
       "      <td>6497.000000</td>\n",
       "      <td>6497.000000</td>\n",
       "      <td>6497.000000</td>\n",
       "      <td>6497.000000</td>\n",
       "    </tr>\n",
       "    <tr>\n",
       "      <th>mean</th>\n",
       "      <td>7.215307</td>\n",
       "      <td>0.339666</td>\n",
       "      <td>0.318633</td>\n",
       "      <td>5.443235</td>\n",
       "      <td>0.056034</td>\n",
       "      <td>30.525319</td>\n",
       "      <td>115.744574</td>\n",
       "      <td>0.994697</td>\n",
       "      <td>3.218501</td>\n",
       "      <td>0.531268</td>\n",
       "      <td>10.491801</td>\n",
       "      <td>5.818378</td>\n",
       "    </tr>\n",
       "    <tr>\n",
       "      <th>std</th>\n",
       "      <td>1.296434</td>\n",
       "      <td>0.164636</td>\n",
       "      <td>0.145318</td>\n",
       "      <td>4.757804</td>\n",
       "      <td>0.035034</td>\n",
       "      <td>17.749400</td>\n",
       "      <td>56.521855</td>\n",
       "      <td>0.002999</td>\n",
       "      <td>0.160787</td>\n",
       "      <td>0.148806</td>\n",
       "      <td>1.192712</td>\n",
       "      <td>0.873255</td>\n",
       "    </tr>\n",
       "    <tr>\n",
       "      <th>min</th>\n",
       "      <td>3.800000</td>\n",
       "      <td>0.080000</td>\n",
       "      <td>0.000000</td>\n",
       "      <td>0.600000</td>\n",
       "      <td>0.009000</td>\n",
       "      <td>1.000000</td>\n",
       "      <td>6.000000</td>\n",
       "      <td>0.987110</td>\n",
       "      <td>2.720000</td>\n",
       "      <td>0.220000</td>\n",
       "      <td>8.000000</td>\n",
       "      <td>3.000000</td>\n",
       "    </tr>\n",
       "    <tr>\n",
       "      <th>25%</th>\n",
       "      <td>6.400000</td>\n",
       "      <td>0.230000</td>\n",
       "      <td>0.250000</td>\n",
       "      <td>1.800000</td>\n",
       "      <td>0.038000</td>\n",
       "      <td>17.000000</td>\n",
       "      <td>77.000000</td>\n",
       "      <td>0.992340</td>\n",
       "      <td>3.110000</td>\n",
       "      <td>0.430000</td>\n",
       "      <td>9.500000</td>\n",
       "      <td>5.000000</td>\n",
       "    </tr>\n",
       "    <tr>\n",
       "      <th>50%</th>\n",
       "      <td>7.000000</td>\n",
       "      <td>0.290000</td>\n",
       "      <td>0.310000</td>\n",
       "      <td>3.000000</td>\n",
       "      <td>0.047000</td>\n",
       "      <td>29.000000</td>\n",
       "      <td>118.000000</td>\n",
       "      <td>0.994890</td>\n",
       "      <td>3.210000</td>\n",
       "      <td>0.510000</td>\n",
       "      <td>10.300000</td>\n",
       "      <td>6.000000</td>\n",
       "    </tr>\n",
       "    <tr>\n",
       "      <th>75%</th>\n",
       "      <td>7.700000</td>\n",
       "      <td>0.400000</td>\n",
       "      <td>0.390000</td>\n",
       "      <td>8.100000</td>\n",
       "      <td>0.065000</td>\n",
       "      <td>41.000000</td>\n",
       "      <td>156.000000</td>\n",
       "      <td>0.996990</td>\n",
       "      <td>3.320000</td>\n",
       "      <td>0.600000</td>\n",
       "      <td>11.300000</td>\n",
       "      <td>6.000000</td>\n",
       "    </tr>\n",
       "    <tr>\n",
       "      <th>max</th>\n",
       "      <td>15.900000</td>\n",
       "      <td>1.580000</td>\n",
       "      <td>1.660000</td>\n",
       "      <td>65.800000</td>\n",
       "      <td>0.611000</td>\n",
       "      <td>289.000000</td>\n",
       "      <td>440.000000</td>\n",
       "      <td>1.038980</td>\n",
       "      <td>4.010000</td>\n",
       "      <td>2.000000</td>\n",
       "      <td>14.900000</td>\n",
       "      <td>9.000000</td>\n",
       "    </tr>\n",
       "  </tbody>\n",
       "</table>\n",
       "</div>"
      ],
      "text/plain": [
       "       fixed_acidity  volatile_acidity  citric_acid  residual_sugar  \\\n",
       "count    6497.000000       6497.000000  6497.000000     6497.000000   \n",
       "mean        7.215307          0.339666     0.318633        5.443235   \n",
       "std         1.296434          0.164636     0.145318        4.757804   \n",
       "min         3.800000          0.080000     0.000000        0.600000   \n",
       "25%         6.400000          0.230000     0.250000        1.800000   \n",
       "50%         7.000000          0.290000     0.310000        3.000000   \n",
       "75%         7.700000          0.400000     0.390000        8.100000   \n",
       "max        15.900000          1.580000     1.660000       65.800000   \n",
       "\n",
       "         chlorides  free_sulfur_dioxide  total_sulfur_dioxide      density  \\\n",
       "count  6497.000000          6497.000000           6497.000000  6497.000000   \n",
       "mean      0.056034            30.525319            115.744574     0.994697   \n",
       "std       0.035034            17.749400             56.521855     0.002999   \n",
       "min       0.009000             1.000000              6.000000     0.987110   \n",
       "25%       0.038000            17.000000             77.000000     0.992340   \n",
       "50%       0.047000            29.000000            118.000000     0.994890   \n",
       "75%       0.065000            41.000000            156.000000     0.996990   \n",
       "max       0.611000           289.000000            440.000000     1.038980   \n",
       "\n",
       "                pH    sulphates      alcohol      quality  \n",
       "count  6497.000000  6497.000000  6497.000000  6497.000000  \n",
       "mean      3.218501     0.531268    10.491801     5.818378  \n",
       "std       0.160787     0.148806     1.192712     0.873255  \n",
       "min       2.720000     0.220000     8.000000     3.000000  \n",
       "25%       3.110000     0.430000     9.500000     5.000000  \n",
       "50%       3.210000     0.510000    10.300000     6.000000  \n",
       "75%       3.320000     0.600000    11.300000     6.000000  \n",
       "max       4.010000     2.000000    14.900000     9.000000  "
      ]
     },
     "execution_count": 5,
     "metadata": {},
     "output_type": "execute_result"
    }
   ],
   "source": [
    "wine.describe()"
   ]
  },
  {
   "cell_type": "code",
   "execution_count": 6,
   "metadata": {
    "scrolled": true
   },
   "outputs": [
    {
     "data": {
      "text/plain": [
       "count    6497.000000\n",
       "mean        5.818378\n",
       "std         0.873255\n",
       "min         3.000000\n",
       "25%         5.000000\n",
       "50%         6.000000\n",
       "75%         6.000000\n",
       "max         9.000000\n",
       "Name: quality, dtype: float64"
      ]
     },
     "execution_count": 6,
     "metadata": {},
     "output_type": "execute_result"
    }
   ],
   "source": [
    "wine.quality.describe()"
   ]
  },
  {
   "cell_type": "markdown",
   "metadata": {},
   "source": [
    "<br>\n",
    "* 출력 변수인 품질 평가점수(quality) 유일값 찾기"
   ]
  },
  {
   "cell_type": "code",
   "execution_count": 7,
   "metadata": {
    "scrolled": true
   },
   "outputs": [
    {
     "data": {
      "text/plain": [
       "[3, 4, 5, 6, 7, 8, 9]"
      ]
     },
     "execution_count": 7,
     "metadata": {},
     "output_type": "execute_result"
    }
   ],
   "source": [
    "sorted(wine.quality.unique()) # 오름차순 지정"
   ]
  },
  {
   "cell_type": "markdown",
   "metadata": {},
   "source": [
    "<br>\n",
    "* 품질 평가점수 빈도계산"
   ]
  },
  {
   "cell_type": "code",
   "execution_count": 8,
   "metadata": {},
   "outputs": [
    {
     "data": {
      "text/plain": [
       "6    2836\n",
       "5    2138\n",
       "7    1079\n",
       "4     216\n",
       "8     193\n",
       "3      30\n",
       "9       5\n",
       "Name: quality, dtype: int64"
      ]
     },
     "execution_count": 8,
     "metadata": {},
     "output_type": "execute_result"
    }
   ],
   "source": [
    "wine['quality'].value_counts()"
   ]
  },
  {
   "cell_type": "markdown",
   "metadata": {},
   "source": [
    "<br>\n",
    "* 와인 종류별 그룹화"
   ]
  },
  {
   "cell_type": "code",
   "execution_count": 9,
   "metadata": {},
   "outputs": [
    {
     "data": {
      "text/html": [
       "<div>\n",
       "<style scoped>\n",
       "    .dataframe tbody tr th:only-of-type {\n",
       "        vertical-align: middle;\n",
       "    }\n",
       "\n",
       "    .dataframe tbody tr th {\n",
       "        vertical-align: top;\n",
       "    }\n",
       "\n",
       "    .dataframe thead th {\n",
       "        text-align: right;\n",
       "    }\n",
       "</style>\n",
       "<table border=\"1\" class=\"dataframe\">\n",
       "  <thead>\n",
       "    <tr style=\"text-align: right;\">\n",
       "      <th></th>\n",
       "      <th>count</th>\n",
       "      <th>mean</th>\n",
       "      <th>std</th>\n",
       "      <th>min</th>\n",
       "      <th>25%</th>\n",
       "      <th>50%</th>\n",
       "      <th>75%</th>\n",
       "      <th>max</th>\n",
       "    </tr>\n",
       "    <tr>\n",
       "      <th>type</th>\n",
       "      <th></th>\n",
       "      <th></th>\n",
       "      <th></th>\n",
       "      <th></th>\n",
       "      <th></th>\n",
       "      <th></th>\n",
       "      <th></th>\n",
       "      <th></th>\n",
       "    </tr>\n",
       "  </thead>\n",
       "  <tbody>\n",
       "    <tr>\n",
       "      <th>red</th>\n",
       "      <td>1599.0</td>\n",
       "      <td>5.636023</td>\n",
       "      <td>0.807569</td>\n",
       "      <td>3.0</td>\n",
       "      <td>5.0</td>\n",
       "      <td>6.0</td>\n",
       "      <td>6.0</td>\n",
       "      <td>8.0</td>\n",
       "    </tr>\n",
       "    <tr>\n",
       "      <th>white</th>\n",
       "      <td>4898.0</td>\n",
       "      <td>5.877909</td>\n",
       "      <td>0.885639</td>\n",
       "      <td>3.0</td>\n",
       "      <td>5.0</td>\n",
       "      <td>6.0</td>\n",
       "      <td>6.0</td>\n",
       "      <td>9.0</td>\n",
       "    </tr>\n",
       "  </tbody>\n",
       "</table>\n",
       "</div>"
      ],
      "text/plain": [
       "        count      mean       std  min  25%  50%  75%  max\n",
       "type                                                      \n",
       "red    1599.0  5.636023  0.807569  3.0  5.0  6.0  6.0  8.0\n",
       "white  4898.0  5.877909  0.885639  3.0  5.0  6.0  6.0  9.0"
      ]
     },
     "execution_count": 9,
     "metadata": {},
     "output_type": "execute_result"
    }
   ],
   "source": [
    "wine.groupby('type')['quality'].describe()"
   ]
  },
  {
   "cell_type": "markdown",
   "metadata": {},
   "source": [
    "<br>\n",
    "* 특정 사분위수 계산"
   ]
  },
  {
   "cell_type": "code",
   "execution_count": 10,
   "metadata": {},
   "outputs": [
    {
     "data": {
      "text/html": [
       "<div>\n",
       "<style scoped>\n",
       "    .dataframe tbody tr th:only-of-type {\n",
       "        vertical-align: middle;\n",
       "    }\n",
       "\n",
       "    .dataframe tbody tr th {\n",
       "        vertical-align: top;\n",
       "    }\n",
       "\n",
       "    .dataframe thead th {\n",
       "        text-align: right;\n",
       "    }\n",
       "</style>\n",
       "<table border=\"1\" class=\"dataframe\">\n",
       "  <thead>\n",
       "    <tr style=\"text-align: right;\">\n",
       "      <th>type</th>\n",
       "      <th>red</th>\n",
       "      <th>white</th>\n",
       "    </tr>\n",
       "  </thead>\n",
       "  <tbody>\n",
       "    <tr>\n",
       "      <th>0.25</th>\n",
       "      <td>5.0</td>\n",
       "      <td>5.0</td>\n",
       "    </tr>\n",
       "    <tr>\n",
       "      <th>0.75</th>\n",
       "      <td>6.0</td>\n",
       "      <td>6.0</td>\n",
       "    </tr>\n",
       "  </tbody>\n",
       "</table>\n",
       "</div>"
      ],
      "text/plain": [
       "type  red  white\n",
       "0.25  5.0    5.0\n",
       "0.75  6.0    6.0"
      ]
     },
     "execution_count": 10,
     "metadata": {},
     "output_type": "execute_result"
    }
   ],
   "source": [
    "wine.groupby('type')['quality'].quantile([0.25,0.75]).unstack('type') ## unstack => 결과를 가로방향으로 재구조화"
   ]
  },
  {
   "cell_type": "markdown",
   "metadata": {},
   "source": [
    "<br>\n",
    "* 와인 종류에 따른 품질 분포 확인"
   ]
  },
  {
   "cell_type": "code",
   "execution_count": 11,
   "metadata": {},
   "outputs": [
    {
     "data": {
      "image/png": "[encoded data removed]",
      "text/plain": [
       "<Figure size 432x288 with 1 Axes>"
      ]
     },
     "metadata": {},
     "output_type": "display_data"
    }
   ],
   "source": [
    "red_wine = wine.ix[wine['type']=='red','quality']  # ix 인덱싱 (integer와 label 동시사용 인덱싱)\n",
    "white_wine = wine.ix[wine['type']=='white','quality'] # ix['row 조건 지정', ' column 지정']\n",
    "\n",
    "# seaborn 패키지\n",
    "sns.set_style('dark')    # set_style은 틱 스타일만 변경 가능\n",
    "# norm_hist가 True이면 히스토그램 높이수가 아닌 밀도분포, kde:커널밀도 표시여부 \n",
    "sns.distplot(red_wine, norm_hist=True, kde=False, color='red', label='Red Wine')  # 두 그룹(와인 종류별)의 관측갯수가 다르므로 빈도분포 대신 밀도분포 사용\n",
    "sns.distplot(white_wine, norm_hist=True, kde=False, color='white', label='White Wine')\n",
    "sns.utils.axlabel('Quality Score', 'Density')\n",
    "\n",
    "plt.title('Distribution of Quality by Wine Type')\n",
    "plt.legend()\n",
    "plt.show()"
   ]
  },
  {
   "cell_type": "code",
   "execution_count": 12,
   "metadata": {},
   "outputs": [
    {
     "name": "stdout",
     "output_type": "stream",
     "text": [
      "            std      mean\n",
      "type                     \n",
      "red    0.807569  5.636023\n",
      "white  0.885639  5.877909\n",
      "\n",
      "tstat: -9.686 pvalue: 0.0000\n"
     ]
    }
   ],
   "source": [
    "## 와인 종류에 따른 품질의 차이가 통계적으로 유의한지 알기 위한 t-test\n",
    "\n",
    "import statsmodels.api as sm\n",
    "\n",
    "print(wine.groupby('type')['quality'].agg(['std','mean'])) # 그룹별 품질의 평균,표준편차\n",
    "\n",
    "print(\"\")\n",
    "\n",
    "tstat,pvalue,df = sm.stats.ttest_ind(red_wine,white_wine)\n",
    "print('tstat: %.3f pvalue: %.4f' % (tstat,pvalue)) \n"
   ]
  },
  {
   "cell_type": "markdown",
   "metadata": {},
   "source": [
    "<br>\n",
    "> 두 샘플이 독립이고, 히스토그램과 개수(30개 이상)가 정규성을 충족하며, 표준편차가 작으므로 등분산성을 충족한다고 본다.\n",
    "\n",
    ">  t검정 결과, p값은 0.0000으로 통상적인 유의수준보다 훨씬 작으므로 두 그룹 간의 품질 차이가 통계적으로 유의하다고 본다."
   ]
  },
  {
   "cell_type": "markdown",
   "metadata": {},
   "source": [
    "<br>\n",
    "* 상관관계 분석"
   ]
  },
  {
   "cell_type": "code",
   "execution_count": 12,
   "metadata": {},
   "outputs": [],
   "source": [
    "# 모든 변수 쌍 사이의 상관계수 파악\n",
    "#wine.corr()"
   ]
  },
  {
   "cell_type": "markdown",
   "metadata": {},
   "source": [
    "<br>\n",
    "* 표본 추출"
   ]
  },
  {
   "cell_type": "code",
   "execution_count": 13,
   "metadata": {},
   "outputs": [
    {
     "name": "stdout",
     "output_type": "stream",
     "text": [
      "type        red  white   All\n",
      "in_sample                   \n",
      "0.0        1399   4698  6097\n",
      "1.0         200    200   400\n",
      "All        1599   4898  6497\n"
     ]
    }
   ],
   "source": [
    "# 표본 추출 함수\n",
    "def take_sample(data_frame, replace=False, n=200):\n",
    "    return data_frame.loc[np.random.choice(data_frame.index,replace=replace,size=n)]\n",
    "\n",
    "reds_sample = take_sample(wine.loc[wine['type']=='red',:])\n",
    "whites_sample = take_sample(wine.loc[wine['type']=='white',:])\n",
    "\n",
    "# 와인 데이터프레임의 인덱스 값이 wine_sample 데이터프레임의 인덱스값과 일치하는지에 따라 in_sample 열을 1,0으로 채움\n",
    "wine_sample = pd.concat([reds_sample, whites_sample]) # red,white 샘플 다시 합침\n",
    "wine['in_sample'] = np.where(wine.index.isin(wine_sample.index),1.,0.)\n",
    "\n",
    "# crosstab() : array형식의 데이터를 컬럼과 열의 인자로 받아 서로 몇개의 일치값이 있는가를 확인할 수 있음\n",
    "print(pd.crosstab(wine.in_sample, wine.type, margins=True)) "
   ]
  },
  {
   "cell_type": "markdown",
   "metadata": {},
   "source": [
    "* 산점도 행렬\n",
    "<br>"
   ]
  },
  {
   "cell_type": "code",
   "execution_count": 14,
   "metadata": {},
   "outputs": [
    {
     "name": "stdout",
     "output_type": "stream",
     "text": [
      "<seaborn.axisgrid.PairGrid object at 0x0000024BB9A63B00>\n"
     ]
    },
    {
     "data": {
      "image/png": "[encoded data removed]",
      "text/plain": [
       "<Figure size 599.375x540 with 12 Axes>"
      ]
     },
     "metadata": {},
     "output_type": "display_data"
    }
   ],
   "source": [
    "sns.set_style(\"dark\")\n",
    "\n",
    "# pairplot => 산점도 행렬\n",
    "g = sns.pairplot(wine_sample, kind='reg', plot_kws={\"ci\":False, \"x_jitter\":0.25, \"y_jitter\":0.25},\n",
    "                hue='type', diag_kind='hist', diag_kws={'bins':10, \"alpha\":1.0}, palette=dict(red=\"red\",white=\"white\"),\n",
    "                 markers=['o','s'], vars=['quality','alcohol','residual_sugar'])\n",
    "\n",
    "print(g)\n",
    "plt.suptitle('Histograms and Scatter Plots of Quality, Alcohol, and Residual Sugar',fontsize=14,\n",
    "            horizontalalignment='center', verticalalignment='top', x=0.5, y=0.999)\n",
    "\n",
    "plt.show()"
   ]
  },
  {
   "cell_type": "markdown",
   "metadata": {},
   "source": [
    "* <b> 최소제곱법을 이용한 선형회귀분석 </b>"
   ]
  },
  {
   "cell_type": "code",
   "execution_count": 15,
   "metadata": {},
   "outputs": [
    {
     "name": "stdout",
     "output_type": "stream",
     "text": [
      "                            OLS Regression Results                            \n",
      "==============================================================================\n",
      "Dep. Variable:                quality   R-squared:                       0.292\n",
      "Model:                            OLS   Adj. R-squared:                  0.291\n",
      "Method:                 Least Squares   F-statistic:                     243.3\n",
      "Date:                Wed, 07 Aug 2019   Prob (F-statistic):               0.00\n",
      "Time:                        08:47:11   Log-Likelihood:                -7215.5\n",
      "No. Observations:                6497   AIC:                         1.445e+04\n",
      "Df Residuals:                    6485   BIC:                         1.454e+04\n",
      "Df Model:                          11                                         \n",
      "Covariance Type:            nonrobust                                         \n",
      "========================================================================================\n",
      "                           coef    std err          t      P>|t|      [0.025      0.975]\n",
      "----------------------------------------------------------------------------------------\n",
      "Intercept               55.7627     11.894      4.688      0.000      32.447      79.079\n",
      "alcohol                  0.2670      0.017     15.963      0.000       0.234       0.300\n",
      "chlorides               -0.4837      0.333     -1.454      0.146      -1.136       0.168\n",
      "citric_acid             -0.1097      0.080     -1.377      0.168      -0.266       0.046\n",
      "density                -54.9669     12.137     -4.529      0.000     -78.760     -31.173\n",
      "fixed_acidity            0.0677      0.016      4.346      0.000       0.037       0.098\n",
      "free_sulfur_dioxide      0.0060      0.001      7.948      0.000       0.004       0.007\n",
      "pH                       0.4393      0.090      4.861      0.000       0.262       0.616\n",
      "residual_sugar           0.0436      0.005      8.449      0.000       0.033       0.054\n",
      "sulphates                0.7683      0.076     10.092      0.000       0.619       0.917\n",
      "total_sulfur_dioxide    -0.0025      0.000     -8.969      0.000      -0.003      -0.002\n",
      "volatile_acidity        -1.3279      0.077    -17.162      0.000      -1.480      -1.176\n",
      "==============================================================================\n",
      "Omnibus:                      144.075   Durbin-Watson:                   1.646\n",
      "Prob(Omnibus):                  0.000   Jarque-Bera (JB):              324.712\n",
      "Skew:                          -0.006   Prob(JB):                     3.09e-71\n",
      "Kurtosis:                       4.095   Cond. No.                     2.49e+05\n",
      "==============================================================================\n",
      "\n",
      "Warnings:\n",
      "[1] Standard Errors assume that the covariance matrix of the errors is correctly specified.\n",
      "[2] The condition number is large, 2.49e+05. This might indicate that there are\n",
      "strong multicollinearity or other numerical problems.\n"
     ]
    }
   ],
   "source": [
    "import statsmodels.api as sm\n",
    "import statsmodels.formula.api as smf\n",
    "\n",
    "## 회귀분석 code // 종속변수 ~ 독립변수1+독립변수2 .... \n",
    "my_formula = 'quality ~ alcohol+chlorides+citric_acid + density + fixed_acidity + free_sulfur_dioxide + pH + residual_sugar + sulphates + total_sulfur_dioxide + volatile_acidity'\n",
    "\n",
    "## ols => 최소제곱법\n",
    "lm = smf.ols(my_formula, data=wine).fit()\n",
    "\n",
    "print(lm.summary())\n",
    "## lm.prams[1] or lm.params['alcohol'] => 개별 변수의 회귀계수 추출"
   ]
  },
  {
   "cell_type": "markdown",
   "metadata": {},
   "source": [
    "* 회귀계수 간략 분석 <br>\n",
    "\n",
    "alchol의 회귀계수 0.2670의 의미는 다른 모든 독립변수가 동일한 두 와인의 경우에, alcol이 한 단위 증가할 때 마다 그 와인의 <br>\n",
    "품질도 한단위 증가한다는것을 의미한다.\n",
    "\n",
    "절편(intercept)의 의미는 모든 독립변수가 0인 경우에 예측되는 품질을 의미한다. 단, 모든 독립변수가 0인경우는 흔하지 않으므로 절편의 수치자체는 유의미하지 않은 경우가 많다."
   ]
  },
  {
   "cell_type": "markdown",
   "metadata": {},
   "source": [
    "* 최소제곱법을 위한 독립변수의 표준화 <br>\n",
    "\n",
    "> 잔차의 제곱합을 최소화하는 회귀선을 찾아서 회귀계수 beta를 추정한다. 이때 잔차는 독립변수의 측정 단위에 따라 크기가 크게 달라질 수도 있다. 따라서 독립변수를 표준화하면 모형을 해석하기가 더 용이하다.\n",
    "\n",
    "> 변수의 관측값에서 평균을 빼고 그 결과를 표준편차로 나누는 것이 표준화 과정이다.\n",
    "\n",
    "> 표준화한 변수는 평균은 0이고 표준편차는 1이 된다."
   ]
  },
  {
   "cell_type": "code",
   "execution_count": 22,
   "metadata": {},
   "outputs": [
    {
     "data": {
      "text/html": [
       "<div>\n",
       "<style scoped>\n",
       "    .dataframe tbody tr th:only-of-type {\n",
       "        vertical-align: middle;\n",
       "    }\n",
       "\n",
       "    .dataframe tbody tr th {\n",
       "        vertical-align: top;\n",
       "    }\n",
       "\n",
       "    .dataframe thead th {\n",
       "        text-align: right;\n",
       "    }\n",
       "</style>\n",
       "<table border=\"1\" class=\"dataframe\">\n",
       "  <thead>\n",
       "    <tr style=\"text-align: right;\">\n",
       "      <th></th>\n",
       "      <th>fixed_acidity</th>\n",
       "      <th>volatile_acidity</th>\n",
       "      <th>citric_acid</th>\n",
       "      <th>residual_sugar</th>\n",
       "      <th>chlorides</th>\n",
       "      <th>free_sulfur_dioxide</th>\n",
       "      <th>total_sulfur_dioxide</th>\n",
       "      <th>density</th>\n",
       "      <th>pH</th>\n",
       "      <th>sulphates</th>\n",
       "      <th>alcohol</th>\n",
       "      <th>quality</th>\n",
       "      <th>in_sample</th>\n",
       "    </tr>\n",
       "  </thead>\n",
       "  <tbody>\n",
       "    <tr>\n",
       "      <th>count</th>\n",
       "      <td>6497.000000</td>\n",
       "      <td>6497.000000</td>\n",
       "      <td>6497.000000</td>\n",
       "      <td>6497.000000</td>\n",
       "      <td>6497.000000</td>\n",
       "      <td>6497.000000</td>\n",
       "      <td>6497.000000</td>\n",
       "      <td>6497.000000</td>\n",
       "      <td>6497.000000</td>\n",
       "      <td>6497.000000</td>\n",
       "      <td>6497.000000</td>\n",
       "      <td>6497.000000</td>\n",
       "      <td>6497.000000</td>\n",
       "    </tr>\n",
       "    <tr>\n",
       "      <th>mean</th>\n",
       "      <td>7.215307</td>\n",
       "      <td>0.339666</td>\n",
       "      <td>0.318633</td>\n",
       "      <td>5.443235</td>\n",
       "      <td>0.056034</td>\n",
       "      <td>30.525319</td>\n",
       "      <td>115.744574</td>\n",
       "      <td>0.994697</td>\n",
       "      <td>3.218501</td>\n",
       "      <td>0.531268</td>\n",
       "      <td>10.491801</td>\n",
       "      <td>5.818378</td>\n",
       "      <td>0.061567</td>\n",
       "    </tr>\n",
       "    <tr>\n",
       "      <th>std</th>\n",
       "      <td>1.296434</td>\n",
       "      <td>0.164636</td>\n",
       "      <td>0.145318</td>\n",
       "      <td>4.757804</td>\n",
       "      <td>0.035034</td>\n",
       "      <td>17.749400</td>\n",
       "      <td>56.521855</td>\n",
       "      <td>0.002999</td>\n",
       "      <td>0.160787</td>\n",
       "      <td>0.148806</td>\n",
       "      <td>1.192712</td>\n",
       "      <td>0.873255</td>\n",
       "      <td>0.240386</td>\n",
       "    </tr>\n",
       "    <tr>\n",
       "      <th>min</th>\n",
       "      <td>3.800000</td>\n",
       "      <td>0.080000</td>\n",
       "      <td>0.000000</td>\n",
       "      <td>0.600000</td>\n",
       "      <td>0.009000</td>\n",
       "      <td>1.000000</td>\n",
       "      <td>6.000000</td>\n",
       "      <td>0.987110</td>\n",
       "      <td>2.720000</td>\n",
       "      <td>0.220000</td>\n",
       "      <td>8.000000</td>\n",
       "      <td>3.000000</td>\n",
       "      <td>0.000000</td>\n",
       "    </tr>\n",
       "    <tr>\n",
       "      <th>25%</th>\n",
       "      <td>6.400000</td>\n",
       "      <td>0.230000</td>\n",
       "      <td>0.250000</td>\n",
       "      <td>1.800000</td>\n",
       "      <td>0.038000</td>\n",
       "      <td>17.000000</td>\n",
       "      <td>77.000000</td>\n",
       "      <td>0.992340</td>\n",
       "      <td>3.110000</td>\n",
       "      <td>0.430000</td>\n",
       "      <td>9.500000</td>\n",
       "      <td>5.000000</td>\n",
       "      <td>0.000000</td>\n",
       "    </tr>\n",
       "    <tr>\n",
       "      <th>50%</th>\n",
       "      <td>7.000000</td>\n",
       "      <td>0.290000</td>\n",
       "      <td>0.310000</td>\n",
       "      <td>3.000000</td>\n",
       "      <td>0.047000</td>\n",
       "      <td>29.000000</td>\n",
       "      <td>118.000000</td>\n",
       "      <td>0.994890</td>\n",
       "      <td>3.210000</td>\n",
       "      <td>0.510000</td>\n",
       "      <td>10.300000</td>\n",
       "      <td>6.000000</td>\n",
       "      <td>0.000000</td>\n",
       "    </tr>\n",
       "    <tr>\n",
       "      <th>75%</th>\n",
       "      <td>7.700000</td>\n",
       "      <td>0.400000</td>\n",
       "      <td>0.390000</td>\n",
       "      <td>8.100000</td>\n",
       "      <td>0.065000</td>\n",
       "      <td>41.000000</td>\n",
       "      <td>156.000000</td>\n",
       "      <td>0.996990</td>\n",
       "      <td>3.320000</td>\n",
       "      <td>0.600000</td>\n",
       "      <td>11.300000</td>\n",
       "      <td>6.000000</td>\n",
       "      <td>0.000000</td>\n",
       "    </tr>\n",
       "    <tr>\n",
       "      <th>max</th>\n",
       "      <td>15.900000</td>\n",
       "      <td>1.580000</td>\n",
       "      <td>1.660000</td>\n",
       "      <td>65.800000</td>\n",
       "      <td>0.611000</td>\n",
       "      <td>289.000000</td>\n",
       "      <td>440.000000</td>\n",
       "      <td>1.038980</td>\n",
       "      <td>4.010000</td>\n",
       "      <td>2.000000</td>\n",
       "      <td>14.900000</td>\n",
       "      <td>9.000000</td>\n",
       "      <td>1.000000</td>\n",
       "    </tr>\n",
       "  </tbody>\n",
       "</table>\n",
       "</div>"
      ],
      "text/plain": [
       "       fixed_acidity  volatile_acidity  citric_acid  residual_sugar  \\\n",
       "count    6497.000000       6497.000000  6497.000000     6497.000000   \n",
       "mean        7.215307          0.339666     0.318633        5.443235   \n",
       "std         1.296434          0.164636     0.145318        4.757804   \n",
       "min         3.800000          0.080000     0.000000        0.600000   \n",
       "25%         6.400000          0.230000     0.250000        1.800000   \n",
       "50%         7.000000          0.290000     0.310000        3.000000   \n",
       "75%         7.700000          0.400000     0.390000        8.100000   \n",
       "max        15.900000          1.580000     1.660000       65.800000   \n",
       "\n",
       "         chlorides  free_sulfur_dioxide  total_sulfur_dioxide      density  \\\n",
       "count  6497.000000          6497.000000           6497.000000  6497.000000   \n",
       "mean      0.056034            30.525319            115.744574     0.994697   \n",
       "std       0.035034            17.749400             56.521855     0.002999   \n",
       "min       0.009000             1.000000              6.000000     0.987110   \n",
       "25%       0.038000            17.000000             77.000000     0.992340   \n",
       "50%       0.047000            29.000000            118.000000     0.994890   \n",
       "75%       0.065000            41.000000            156.000000     0.996990   \n",
       "max       0.611000           289.000000            440.000000     1.038980   \n",
       "\n",
       "                pH    sulphates      alcohol      quality    in_sample  \n",
       "count  6497.000000  6497.000000  6497.000000  6497.000000  6497.000000  \n",
       "mean      3.218501     0.531268    10.491801     5.818378     0.061567  \n",
       "std       0.160787     0.148806     1.192712     0.873255     0.240386  \n",
       "min       2.720000     0.220000     8.000000     3.000000     0.000000  \n",
       "25%       3.110000     0.430000     9.500000     5.000000     0.000000  \n",
       "50%       3.210000     0.510000    10.300000     6.000000     0.000000  \n",
       "75%       3.320000     0.600000    11.300000     6.000000     0.000000  \n",
       "max       4.010000     2.000000    14.900000     9.000000     1.000000  "
      ]
     },
     "execution_count": 22,
     "metadata": {},
     "output_type": "execute_result"
    }
   ],
   "source": [
    "wine.describe()"
   ]
  },
  {
   "cell_type": "code",
   "execution_count": 19,
   "metadata": {},
   "outputs": [],
   "source": [
    "## 데이터프레임 변수 표준화하기\n",
    "\n",
    "## 와인 데이터셋의 quality를 종속변수로\n",
    "dependent_variable = wine['quality']\n",
    "\n",
    "independent_variables = wine[wine.columns.difference(['quality','type','in_sample'])]\n",
    "## DataFrame.columns.difference => df에서 지정한 컬럼과 다른 컬럼을 추출\n",
    "\n",
    "## 표준화 식\n",
    "independent_variables_standardized = (independent_variables - independent_variables.mean()) / independent_variables.std()\n",
    "\n",
    "wine_standardized = pd.concat([dependent_variable, independent_variables_standardized], axis=1) ## 독립변수를 표준화한 df"
   ]
  },
  {
   "cell_type": "code",
   "execution_count": 24,
   "metadata": {},
   "outputs": [
    {
     "name": "stdout",
     "output_type": "stream",
     "text": [
      "                            OLS Regression Results                            \n",
      "==============================================================================\n",
      "Dep. Variable:                quality   R-squared:                       0.292\n",
      "Model:                            OLS   Adj. R-squared:                  0.291\n",
      "Method:                 Least Squares   F-statistic:                     243.3\n",
      "Date:                Wed, 07 Aug 2019   Prob (F-statistic):               0.00\n",
      "Time:                        08:55:14   Log-Likelihood:                -7215.5\n",
      "No. Observations:                6497   AIC:                         1.445e+04\n",
      "Df Residuals:                    6485   BIC:                         1.454e+04\n",
      "Df Model:                          11                                         \n",
      "Covariance Type:            nonrobust                                         \n",
      "========================================================================================\n",
      "                           coef    std err          t      P>|t|      [0.025      0.975]\n",
      "----------------------------------------------------------------------------------------\n",
      "Intercept               55.7627     11.894      4.688      0.000      32.447      79.079\n",
      "alcohol                  0.2670      0.017     15.963      0.000       0.234       0.300\n",
      "chlorides               -0.4837      0.333     -1.454      0.146      -1.136       0.168\n",
      "citric_acid             -0.1097      0.080     -1.377      0.168      -0.266       0.046\n",
      "density                -54.9669     12.137     -4.529      0.000     -78.760     -31.173\n",
      "fixed_acidity            0.0677      0.016      4.346      0.000       0.037       0.098\n",
      "free_sulfur_dioxide      0.0060      0.001      7.948      0.000       0.004       0.007\n",
      "pH                       0.4393      0.090      4.861      0.000       0.262       0.616\n",
      "residual_sugar           0.0436      0.005      8.449      0.000       0.033       0.054\n",
      "sulphates                0.7683      0.076     10.092      0.000       0.619       0.917\n",
      "total_sulfur_dioxide    -0.0025      0.000     -8.969      0.000      -0.003      -0.002\n",
      "volatile_acidity        -1.3279      0.077    -17.162      0.000      -1.480      -1.176\n",
      "==============================================================================\n",
      "Omnibus:                      144.075   Durbin-Watson:                   1.646\n",
      "Prob(Omnibus):                  0.000   Jarque-Bera (JB):              324.712\n",
      "Skew:                          -0.006   Prob(JB):                     3.09e-71\n",
      "Kurtosis:                       4.095   Cond. No.                     2.49e+05\n",
      "==============================================================================\n",
      "\n",
      "Warnings:\n",
      "[1] Standard Errors assume that the covariance matrix of the errors is correctly specified.\n",
      "[2] The condition number is large, 2.49e+05. This might indicate that there are\n",
      "strong multicollinearity or other numerical problems.\n"
     ]
    }
   ],
   "source": [
    "## 표준화환 독립변수로의 회귀분석\n",
    "# my_formula = 'quality ~ alcohol+chlorides+citric_acid + density + fixed_acidity + free_sulfur_dioxide + pH + residual_sugar + sulphates + total_sulfur_dioxide + volatile_acidity'\n",
    "\n",
    "lm_standardized = smf.ols(my_formula, data=wine).fit()\n",
    "\n",
    "print(lm_standardized.summary())"
   ]
  },
  {
   "cell_type": "markdown",
   "metadata": {},
   "source": [
    "* 표준화환 독립변수로의 회귀계수의 해석 <br>\n",
    "\n",
    "> 독립변수가 표준화되면 회귀계수의 해석도 달라진다. \n",
    "\n",
    "> 다른 독립변수는 고정되어 있고 <b> 특정 독립변수가 1표준편차만큼 변할 때 종속변수가 변화하는 표준편차의 평균을 의미한다. </b> <br>\n",
    "\n",
    "> ex) alcohol 0.3185 => 한 와인의 알코올이 1표준편차만큼 증가하면 그 와인의 품질은 평균적으로 0.32 표준편차만큼 증가\n",
    "\n",
    "> ex) 앞서 와인의 평균(10.5) 표준편차(1.2)였고 품질의 평균(5.8) 표준편차(0.9)였다. 즉, 알코올 외 다른 특성은 모두 동일한 두 와인을 비교 할 떄 알코올이 11.7(10.5+1.2)인 와인의 품질이 알코올이 평균인 와인보다 평균적으로 0.32표준편차 만큼 높을 것이다.\n",
    "\n",
    "> 이 경우, 절편의 해석은 모든 독립변수가 평균일 때에 해당하는 종속변수의 평균이다 => 와인의 모든 특성이 평균일 경우 품질의 평균은 5.8184이며 표준오차는 0.009이다 ."
   ]
  },
  {
   "cell_type": "code",
   "execution_count": 25,
   "metadata": {},
   "outputs": [
    {
     "name": "stdout",
     "output_type": "stream",
     "text": [
      "[5.0, 4.92, 5.03, 5.68, 5.0, 5.04, 5.02, 5.3, 5.24, 5.69]\n"
     ]
    }
   ],
   "source": [
    "## 예측하기\n",
    "## 새로운 관측값이 생겼을 때 품질 예측하기\n",
    "## 편의상 이미 모델링에 사용한 기존 데이터셋의 관측값을 다시 사용\n",
    "\n",
    "new_observations = wine.ix[wine.index.isin(range(10)),independent_variables.columns]\n",
    "\n",
    "y_predicted = lm.predict(new_observations) # lm => 종속변수:quality\n",
    "y_predicted_rounded = [round(score,2) for score in y_predicted] # 반올림 =\n",
    "\n",
    "print(y_predicted_rounded)"
   ]
  }
 ],
 "metadata": {
  "kernelspec": {
   "display_name": "Python 3",
   "language": "python",
   "name": "python3"
  },
  "language_info": {
   "codemirror_mode": {
    "name": "ipython",
    "version": 3
   },
   "file_extension": ".py",
   "mimetype": "text/x-python",
   "name": "python",
   "nbconvert_exporter": "python",
   "pygments_lexer": "ipython3",
   "version": "3.7.4"
  }
 },
 "nbformat": 4,
 "nbformat_minor": 2
}
