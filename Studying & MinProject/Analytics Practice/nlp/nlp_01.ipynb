{
 "cells": [
  {
   "cell_type": "code",
   "execution_count": 1,
   "metadata": {
    "scrolled": false
   },
   "outputs": [
    {
     "name": "stdout",
     "output_type": "stream",
     "text": [
      "Requirement already satisfied: nltk in c:\\users\\playdata\\anaconda3\\lib\\site-packages (3.4.4)\n",
      "Requirement already satisfied: six in c:\\users\\playdata\\anaconda3\\lib\\site-packages (from nltk) (1.12.0)\n"
     ]
    }
   ],
   "source": [
    "# !pip install nltk "
   ]
  },
  {
   "cell_type": "code",
   "execution_count": 4,
   "metadata": {
    "scrolled": true
   },
   "outputs": [],
   "source": [
    "import nltk\n",
    "# nltk.download('all')"
   ]
  },
  {
   "cell_type": "markdown",
   "metadata": {},
   "source": [
    "## 단어 단위 토크나이징"
   ]
  },
  {
   "cell_type": "code",
   "execution_count": 5,
   "metadata": {},
   "outputs": [
    {
     "name": "stdout",
     "output_type": "stream",
     "text": [
      "['I', 'am', 'going', 'to', 'Seoul', ',', 'Korea', '.']\n",
      "[('I', 'PRP'), ('am', 'VBP'), ('going', 'VBG'), ('to', 'TO'), ('Seoul', 'NNP'), (',', ','), ('Korea', 'NNP'), ('.', '.')]\n"
     ]
    }
   ],
   "source": [
    "from nltk import word_tokenize\n",
    "\n",
    "tokens =  word_tokenize(\"I am going to Seoul, Korea.\")\n",
    "print( tokens )\n",
    "print( nltk.pos_tag(tokens))"
   ]
  },
  {
   "cell_type": "code",
   "execution_count": 6,
   "metadata": {},
   "outputs": [
    {
     "name": "stdout",
     "output_type": "stream",
     "text": [
      "['At', 'eight', \"o'clock\", 'on', 'Thursday', 'morning', 'Arthur', 'did', \"n't\", 'feel', 'very', 'good', '.']\n",
      "[('At', 'IN'), ('eight', 'CD'), (\"o'clock\", 'NN'), ('on', 'IN'), ('Thursday', 'NNP'), ('morning', 'NN'), ('Arthur', 'NNP'), ('did', 'VBD'), (\"n't\", 'RB'), ('feel', 'VB'), ('very', 'RB'), ('good', 'JJ'), ('.', '.')]\n"
     ]
    }
   ],
   "source": [
    "sentence = \"\"\"At eight o'clock on Thursday morning Arthur didn't feel very good.\"\"\"\n",
    "tokens =  word_tokenize(sentence)\n",
    "print( tokens )\n",
    "print( nltk.pos_tag(tokens) )"
   ]
  },
  {
   "cell_type": "markdown",
   "metadata": {},
   "source": [
    "## 문장  단위 토크나이징"
   ]
  },
  {
   "cell_type": "code",
   "execution_count": 7,
   "metadata": {},
   "outputs": [],
   "source": [
    "from nltk import sent_tokenize "
   ]
  },
  {
   "cell_type": "code",
   "execution_count": 8,
   "metadata": {},
   "outputs": [
    {
     "name": "stdout",
     "output_type": "stream",
     "text": [
      "[\"London (CNN)Boris Johnson, the UK's new prime minister, wants you to know that he loves his country.\", 'Specifically, he wants you to know that he loves the Union between the four nations that make up the United Kingdom of Great Britain and Northern Ireland.', 'Unfortunately for Johnson, this love is not always reciprocated.', 'During his visits to the four nations earlier this week, Johnson was confronted by a number of protesters who took issue with his \"do or die\" approach to Brexit.', 'Johnson has not been coy about his commitment to leaving the EU on October 31.', \"And he's made it perfectly clear he would do so without a deal.\", 'In Scotland, he was booed by pro-European and pro-Scottish independence supporters.', 'Nicola Sturgeon, Scotland\\'s First Minister and leader of the pro-Independence Scottish National Party, told local media that Johnson didn\\'t have the \"guts\" to face Scottish people during his visit.']\n"
     ]
    }
   ],
   "source": [
    "paragraph=\"\"\"London (CNN)Boris Johnson, the UK's new prime minister, wants you to know that he loves his country.\n",
    "Specifically, he wants you to know that he loves the Union between the four nations that make up the United Kingdom of Great Britain and Northern Ireland.\n",
    "Unfortunately for Johnson, this love is not always reciprocated. During his visits to the four nations earlier this week, Johnson was confronted by a number of protesters who took issue with his \"do or die\" approach to Brexit. Johnson has not been coy about his commitment to leaving the EU on October 31. And he's made it perfectly clear he would do so without a deal.\n",
    "In Scotland, he was booed by pro-European and pro-Scottish independence supporters. Nicola Sturgeon, Scotland's First Minister and leader of the pro-Independence Scottish National Party, told local media that Johnson didn't have the \"guts\" to face Scottish people during his visit. \"\"\"\n",
    "\n",
    "print ( sent_tokenize (paragraph) )"
   ]
  },
  {
   "cell_type": "markdown",
   "metadata": {},
   "source": [
    "## KoNLPy 설치"
   ]
  },
  {
   "cell_type": "code",
   "execution_count": 10,
   "metadata": {},
   "outputs": [
    {
     "name": "stdout",
     "output_type": "stream",
     "text": [
      "Collecting KoNLPy\n",
      "  Downloading https://files.pythonhosted.org/packages/e5/3d/4e983cd98d87b50b2ab0387d73fa946f745aa8164e8888a714d5129f9765/konlpy-0.5.1-py2.py3-none-any.whl (19.4MB)\n",
      "Requirement already satisfied: JPype1>=0.5.7 in c:\\users\\playdata\\anaconda3\\lib\\site-packages (from KoNLPy) (0.7.0)\n",
      "Installing collected packages: KoNLPy\n",
      "Successfully installed KoNLPy-0.5.1\n"
     ]
    }
   ],
   "source": [
    "!pip install KoNLPy"
   ]
  },
  {
   "cell_type": "code",
   "execution_count": 11,
   "metadata": {},
   "outputs": [
    {
     "name": "stderr",
     "output_type": "stream",
     "text": [
      "C:\\Users\\Playdata\\Anaconda3\\lib\\site-packages\\jpype\\_core.py:210: UserWarning: \n",
      "-------------------------------------------------------------------------------\n",
      "Deprecated: convertStrings was not specified when starting the JVM. The default\n",
      "behavior in JPype will be False starting in JPype 0.8. The recommended setting\n",
      "for new code is convertStrings=False.  The legacy value of True was assumed for\n",
      "this session. If you are a user of an application that reported this warning,\n",
      "please file a ticket with the developer.\n",
      "-------------------------------------------------------------------------------\n",
      "\n",
      "  \"\"\")\n"
     ]
    },
    {
     "name": "stdout",
     "output_type": "stream",
     "text": [
      "['명사', '추출', '형태소', '분석']\n"
     ]
    }
   ],
   "source": [
    "from konlpy.tag import Kkma\n",
    "\n",
    "a = Kkma()\n",
    "\n",
    "nouns = a.nouns(\"명사만을 추출합니다. 형태소 분석입니다.\")\n",
    "print(nouns)"
   ]
  }
 ],
 "metadata": {
  "kernelspec": {
   "display_name": "Python 3",
   "language": "python",
   "name": "python3"
  },
  "language_info": {
   "codemirror_mode": {
    "name": "ipython",
    "version": 3
   },
   "file_extension": ".py",
   "mimetype": "text/x-python",
   "name": "python",
   "nbconvert_exporter": "python",
   "pygments_lexer": "ipython3",
   "version": "3.7.4"
  }
 },
 "nbformat": 4,
 "nbformat_minor": 4
}
